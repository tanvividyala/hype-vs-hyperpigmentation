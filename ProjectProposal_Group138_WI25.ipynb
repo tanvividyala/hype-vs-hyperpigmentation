{
 "cells": [
  {
   "cell_type": "markdown",
   "metadata": {},
   "source": [
    "# COGS 108 - Project Proposal"
   ]
  },
  {
   "cell_type": "markdown",
   "metadata": {},
   "source": [
    "# Names\n",
    "\n",
    "- Vyomi Seth\n",
    "- Shamita Goyal\n",
    "- Tanvi Vidyala\n",
    "- Sarah Sun\n"
   ]
  },
  {
   "cell_type": "markdown",
   "metadata": {},
   "source": [
    "# Research Question"
   ]
  },
  {
   "cell_type": "markdown",
   "metadata": {},
   "source": [
    "How do hyperpigmentation treatments compare between official product marketing and user-generated reviews across Asian and Western beauty markets in the last year? Specifically, how do brands and consumers describe five key brightening ingredients (Vitamin C, Niacinamide, Alpha Arbutin, Kojic Acid, and Tranexamic Acid), and how do marketing claims align with user reviews in terms of linguistic framing, promised benefits, and overall sentiment?"
   ]
  },
  {
   "cell_type": "markdown",
   "metadata": {},
   "source": [
    "## Background and Prior Work"
   ]
  },
  {
   "cell_type": "markdown",
   "metadata": {},
   "source": [
    "#### <u>**1.1 Intro to Hyperpigmentation** </u>\n",
    "Hyperpigmentation occurs when skin cells produce excess melanin, the pigment responsible for skin and hair color. Various factors contribute to this condition, including sun exposure, genetics, hormonal changes (such as pregnancy), and certain medications like antibiotics or oral contraceptives. External influences, including exposure to heavy metals (iron, arsenic, lead), tobacco smoke, and medical conditions such as diabetes, thyroid disorders, and adrenal insufficiency (Addison’s disease), can also trigger or worsen hyperpigmentation. Skin injuries, inflammation, and dermatological conditions like acne and atopic dermatitis may further contribute to dark spots.<sup>[1](#ref1)</sup>\n",
    "\n",
    "#### <u>**1.2 Types of Hyperpigmentation** </u>\n",
    "Several types of hyperpigmentation exist, each with different causes. Freckles darken with sun exposure, age spots develop due to prolonged UV exposure, and melasma appears as dark patches influenced by hormones. Other types, like post-inflammatory hyperpigmentation, result from skin trauma, while acanthosis nigricans is linked to insulin resistance.<sup>[1](#ref1)</sup> In this project, we will examine hyperpigmentation as a whole rather than focusing on specific types.\n",
    "\n",
    "#### <u>**1.3 Five Main Active Ingredients to Target Hyperpigmentation** </u> \n",
    "Various active ingredients are used in skincare products to target hyperpigmentation, with five of the most prominent being Vitamin C, Niacinamide, Alpha Arbutin, Kojic Acid, and Tranexamic Acid. We will be analyzing and looking out for these ingredients as a key factor in our analysis. \n",
    "\n",
    "- **Vitamin C** is a powerful antioxidant that helps protect the skin from UV-induced damage, a common trigger for melasma. It also brightens the skin by inhibiting melanin production and works even more effectively when combined with other skin-lightening ingredients.<sup>[2](#ref2)</sup>\n",
    "- **Niacinamide**, a form of Vitamin B3, is a well-tolerated ingredient known for its skin-brightening and anti-inflammatory properties. It helps regulate melanosome transfer, leading to a more even skin tone while also promoting hydration and strengthening the skin barrier, making it suitable for various skin types. <sup>[2](#ref2)</sup>\n",
    "- **Alpha arbutin**, a naturally derived antioxidant and skin brightener from the bearberry plant, is a gentler alternative to hydroquinone for reducing hyperpigmentation. <sup>[3](#ref3)</sup>\n",
    "- **Kojic acid**, derived from fermented rice, functions as a tyrosinase inhibitor, reducing melanin production and helping to fade dark patches associated with melasma. <sup>[2](#ref2)</sup>\n",
    "- **Tranexamic acid**, which can be used orally or topically, further aids in melasma treatment by inhibiting melanocyte activation while also offering anti-inflammatory and anti-angiogenic benefits, making it a valuable addition to a comprehensive pigmentation treatment plan. <sup>[2](#ref2)</sup>\n",
    "\n",
    "#### <u>**1.4 Asian vs Western Markets in Skincare** </u> \n",
    "Asian and Western skincare markets operate under distinct cultural and consumer-driven dynamics that shape their marketing strategies. In Asia, skincare is deeply rooted in tradition, with an emphasis on holistic beauty and multi-step routines that prioritize prevention and long-term skin health. This is reflected in marketing approaches that highlight heritage, ingredient efficacy, and time-honored rituals. On the other hand, Western skincare consumers value individuality, simplicity, and innovation, leading to marketing strategies that focus on product differentiation, minimalistic formulations, and ethical considerations such as sustainability and cruelty-free certifications. Marketing language reflects these differences, with Asian brands highlighting “radiance” and “brightening,” while Western brands use terms like “even skin tone” and “dark spot corrector” to emphasize clinical efficacy.<sup>[4](#ref4)</sup>  \n",
    "\n",
    "#### <u>**1.5 Previous Studies** </u> \n",
    "Looking at previous projects, we found that many focus on comparing skincare products across markets, analyzing Sephora reviews, ingredient effectiveness, and consumer sentiment. Some studies examine brightening ingredients like Kojic Acid and Vitamin C in Korean treatments, while others explore marketing claims versus user experiences in Western beauty brands.\n",
    "\n",
    "- The Kaggle project \"Skincare Products EDA & Sentiment Analysis\" by Melissa Monfared explores Sephora’s skincare products using exploratory data analysis (EDA) and sentiment analysis on over 1 million customer reviews. It examines brand popularity, pricing trends, and ingredient usage, along with consumer sentiment toward different products. By applying natural language processing (NLP), the project classifies reviews as positive, neutral, or negative, revealing key themes in customer feedback. This analysis provides insights into consumer preferences and satisfaction, which can be extended to compare marketing claims vs. actual user experiences, particularly for hyperpigmentation treatments in different beauty markets.<sup>[5](#ref5)</sup>  \n",
    "- The Horizon grand review research website provides a detailed analysis of the hyperpigmentation treatment market in South Korea, presenting key statistics and growth projections. It highlights that the market was valued at USD 16.6 million in 2023 and is expected to reach USD 29.2 million by 2030, growing at a CAGR of 8.5%. The website includes graphs and data visualizations to illustrate trends, such as the dominance of age spots as the largest segment and melasma as the fastest-growing indication. Additionally, it compares South Korea’s market performance to other global and regional markets, showcasing insights into the broader hyperpigmentation treatment industry.<sup>[6](#ref6)</sup>\n",
    "- This journal article focuses on key ingredients for hyperpigmentation treatment, specifically niacinamide and tranexamic acid (TXA), as previously discussed. A randomized, double-blind, vehicle-controlled study evaluated the effectiveness of a topical formulation containing 2% niacinamide and 2% TXA in reducing facial hyperpigmentation. Niacinamide, a vitamin B3 derivative, inhibits melanosome transfer from melanocytes to keratinocytes, while TXA prevents UV-induced pigmentation by decreasing melanocyte tyrosinase activity. The 8-week study, conducted on 42 Korean women, found that the niacinamide + TXA formulation significantly (P < 0.05) reduced pigmentation compared to a control group. These findings highlight the potential of this combination as an effective alternative to hydroquinone-based treatments for improving skin tone and addressing irregular pigmentation.<sup>[7](#ref7)</sup>\n",
    "\n",
    "#### <u>**Summary** </u> \n",
    "Collectively, these studies suggest that marketing language, consumer expectations, and review patterns are deeply influenced by cultural perceptions of beauty, shaping how hyperpigmentation treatments are promoted and evaluated in different markets.\n",
    "\n",
    "\n",
    "---\n",
    "\n",
    "### References  \n",
    "\n",
    "<a name=\"ref1\"></a>**[1]** *Demystifying Hyperpigmentation: Causes, Types, and Effective Treatments.* Harvard Health Publishing. [https://www.health.harvard.edu/diseases-and-conditions/demystifying-hyperpigmentation-causes-types-and-effective-treatments](https://www.health.harvard.edu/diseases-and-conditions/demystifying-hyperpigmentation-causes-types-and-effective-treatments) [↩](#ref1)\n",
    "\n",
    "<a name=\"ref2\"></a>**[2]** *Best Ingredients for Hyperpigmentation.* Miiskin. [https://miiskin.com/anti-aging-beauty/best-ingredients-for-hyperpigmentation/](https://miiskin.com/anti-aging-beauty/best-ingredients-for-hyperpigmentation/) [↩](#ref2)\n",
    "\n",
    "<a name=\"ref3\"></a>**[3]** *Everything You Need to Know About Alpha Arbutin.* Naturium. [https://naturium.com/blogs/the-lab-journal/everything-you-need-to-know-about-alpha-arbutin#:~:text=What%20is%20Alpha%20Arbutin%3F,%2C%20and%20post%2Dinflammatory%20pigmentation](https://naturium.com/blogs/the-lab-journal/everything-you-need-to-know-about-alpha-arbutin#:~:text=What%20is%20Alpha%20Arbutin%3F,%2C%20and%20post%2Dinflammatory%20pigmentation) [↩](#ref3)\n",
    "\n",
    "<a name=\"ref4\"></a>**[4]** *East Meets West: How Asian Brands Can Appeal to Western Audiences.* Kadence. [https://kadence.com/en-us/east-meets-west-how-asian-brands-can-appeal-to-western-audiences/#:~:text=For%20instance%2C%20in%20the%20beauty,with%20a%20legacy%20of%20trust](https://kadence.com/en-us/east-meets-west-how-asian-brands-can-appeal-to-western-audiences/#:~:text=For%20instance%2C%20in%20the%20beauty,with%20a%20legacy%20of%20trust) [↩](#ref4)\n",
    "\n",
    "<a name=\"ref5\"></a>**[5]** *Skincare Products EDA & Sentiment Analysis.* Kaggle. [https://www.kaggle.com/code/melissamonfared/skincare-products-eda-sentiment-analysis](https://www.kaggle.com/code/melissamonfared/skincare-products-eda-sentiment-analysis) [↩](#ref5)\n",
    "\n",
    "\n",
    "<a name=\"ref6\"></a>**[6]** *Hyperpigmentation Treatment Market – South Korea.* Grand View Research. [https://www.grandviewresearch.com/horizon/outlook/hyperpigmentation-treatment-market/south-korea](https://www.grandviewresearch.com/horizon/outlook/hyperpigmentation-treatment-market/south-korea) [↩](#ref6)\n",
    "\n",
    "\n",
    "<a name=\"ref7\"></a>**[7]** *Advances in Hyperpigmentation Treatment: A Review.* Wiley Online Library. [https://onlinelibrary.wiley.com/doi/full/10.1111/srt.12107](https://onlinelibrary.wiley.com/doi/full/10.1111/srt.12107) [↩](#ref7)"
   ]
  },
  {
   "cell_type": "markdown",
   "metadata": {},
   "source": [
    "# Hypothesis\n"
   ]
  },
  {
   "cell_type": "markdown",
   "metadata": {},
   "source": [
    "We predict that Asian skincare markets are more likely to market hyperpigmentation treatments with terms like “whitening” and “brightening,” as well as prioritize gradual improvement whereas Western markets will market hyperpigmentation with terms like “dark spot correction” and “even skin tone” while prioritizing clinical efficiency and fast results. Consumer reviews will mirror these differences as well, with Asian consumers valuing long-term benefits, while Western consumers will expect quickly visible improvements, critiquing products more harshly if the results do not come immediately.\n",
    "\n",
    "We believe this is the case due to cultural differences and differences in beauty norms between Asian countries and Western countries, with a study by Columbia University showing that skin lightening products were used at higher rates by Asian women born outside of the United States than any other demographic assessed. <sup>[8](#ref8)</sup>\n",
    "\n",
    "---\n",
    "\n",
    "### References  \n",
    "\n",
    "<a name=\"ref8\"></a>**[8]** *Impact of Environmental Factors on Skin Hyperpigmentation.* Liebert Publishing. [https://www.liebertpub.com/doi/10.1089/env.2022.0053](https://www.liebertpub.com/doi/10.1089/env.2022.0053) [↩](#ref8)"
   ]
  },
  {
   "cell_type": "markdown",
   "metadata": {},
   "source": [
    "# Data"
   ]
  },
  {
   "cell_type": "markdown",
   "metadata": {},
   "source": [
    "Our ideal dataset would need to include consumer reviews and marketing claims for hyperpigmentation treatments across Asian (South Korea and Japan) and Western (US and UK) beauty markets, specifically for products containing Kojic Acid, Vitamin C, Niacinamide, Arbutin, or Tranexamic Acid.\n",
    "\n",
    "#### <u>**1. Potential Variables:**</u>\n",
    "   - Product info: Name, brand, ingredients, category, price\n",
    "   - Consumer reviews: star/product rating (word reviews), skin type, age\n",
    "   - Marketing claims: descriptions of products, certifications\n",
    "\n",
    "#### <u>**2. Observations:**</u>\n",
    "   - At least 10,000 reviews from each market or category for an effective analysis \n",
    "\n",
    "#### <u>**3. Who/what/how would these data be collected:**</u>\n",
    "   - Collection methods:\n",
    "     - Web scraping from major beauty retailers (Sephora, YeStyle, Amazon, etc)\n",
    "     - Or Web scraping reddit communities with skincare recommendations and reviews \n",
    "\n",
    "#### <u>**4. How would these data be stored/organized:**</u>\n",
    "   - We would ideally store the data in data frames and dictionaries, especially for handling web scraped data. Structured information like product details, ratings, and prices would be stored in Pandas dataframes for easy analysis while unstructured text data from reviews and marketing claims could be organized in dictionaries for flexible processing. \n",
    "\n",
    "\n",
    "#### **<u>Some relevant datasets (or ones similarly structured to what we would want) include:</u>**\n",
    "- [Sephora Skincare Ingredients](https://www.kaggle.com/datasets/dominoweir/skincare-product-ingredients): this dataset includes the product, product type, user ratings, price, and most importantly, a list of ingredients of skincare products found on the American beauty store website, Sephora. We can assume that most of the products on this website are American, but can’t be completely certain. This dataset does not include the website’s product descriptions.\n",
    "- [Skincare API](https://github.com/LauraAddams/skincareAPI/tree/master): this API project contains datasets with information (brand, product name, ingredients) about “over 2,000 popular skincare products in the US, Korea, and Japan.” Notably, the country of origin of the product is not included as a column in the dataset.\n",
    "- [NLP: Ulta Skincare Reviews](https://www.kaggle.com/datasets/nenamalikah/nlp-ulta-skincare-reviews): this dataset contains scraped, individual reviews for a Dermalogica cleansing exfoliator on Ulta.com. It contains the rating and text of each review, which could be used for sentiment analysis, along with some basic stats about the user who left the review. However, it may be unreasonable to compare the sentiments of actual reviews between a large number of different products, and we might look to use a summarized list of product ratings instead."
   ]
  },
  {
   "cell_type": "markdown",
   "metadata": {},
   "source": [
    "# Ethics & Privacy"
   ]
  },
  {
   "cell_type": "markdown",
   "metadata": {},
   "source": [
    "There are generally very few privacy concerns with the data we mean to collect: we are primarily looking at products, so there is no personally identifiable information that would need to be removed. The sources we plan to collect our data from (using web scraping) are online shopping websites, where all the information is already publicly available to view. Collecting product reviews may have privacy concerns, since some websites display the name and age range of the user in order to help customers make better judgments about the products they’re buying. This would count as PII, and would need to be removed (and possibly replaced with a different id) for use in our project. Additionally, pictures that may come with reviews will not be included in our dataset, since they are not necessary for our analysis focusing on text sentiment, and may contain pictures of reviewers’ faces. \n",
    "\n",
    "\n",
    "We have a concern regarding how consumer voices and marketing strategies contain bias. Since we are scraping data from online beauty retailers and forums, our dataset primarily reflects the opinion of people that are active online, as opposed to a fully representative sample of skincare users in the market. Moreso, English-language reviews are likely to be overrepresented due to a lack of translations or missing data from Asian countries, which could impact the accuracy of comparative sentiment analysis. In order to balance representation, we will attempt to source our data from both Western and Asian platforms, and consider the impact of inaccurate translations on the data set. If possible, we can use multilingual sentiment analysis tools to avoid bias from English-centris analysis. We will take note of the demographic limitations when writing out our final report. \n",
    "\n",
    "\n",
    "There is also a potential bias in the marketing language analysis, a central part of our analysis. The issue is that marketing language is largely shaped by cultural values, which may cause bias in how we interpret linguistic differences. Certain terms like “brightening” and “whitening” might have different connotations depending on local beauty standards, and our framing might reinforce existing biases. In order to mitigate this bias, we will analyze this language in the context of broader historical contexts, as not to label one approach as more ethical. We will also use objective NLP methods, such as word frequency and sentiment scoring, instead of relying on more subjective methods. \n",
    "\n",
    "\n",
    "Our study focuses on the differences in how hyperpigmentation treatments are marketed and reviewed, but we recognize that discussions of skin brightening and lightening products intersect with broader social issues related to colorism and beauty standards. By analyzing marketing strategies, we risk unintentionally pushing industry narratives that promote unrealistic or exclusionary beauty ideals. To mitigate this, we will frame our findings critically by acknowledging how beauty standards influence product marketing, and highlight any problematic marketing patterns while discussing their ethical implications. Our goal is not to promote or endorse any specific beauty ideal but rather to provide a thoughtful critique of industry practices.\n"
   ]
  },
  {
   "cell_type": "markdown",
   "metadata": {},
   "source": [
    "# Team Expectations "
   ]
  },
  {
   "cell_type": "markdown",
   "metadata": {},
   "source": [
    "- We communicate in a timely manner using Discord.\n",
    "- Team members should respond within a reasonable timeframe (24 hours) unless otherwise specified.\n",
    "- All work is documented and organized in Google Docs using clearly labeled tabs.\n",
    "- Each team member is responsible for keeping shared documents updated with their contributions.\n",
    "- Decisions are made through a fair voting process.\n",
    "- Ranked voting will be used for selecting and prioritizing ideas.\n",
    "- For urgent decisions, if a team member is non-responsive within 3 hours, the majority vote will decide.\n",
    "- We meet weekly for lunch to check in on progress and discuss challenges.\n",
    "- Meetings should be attended by all members in a timely manner unless there is an unavoidable conflict.\n",
    "- Every team member is expected to contribute equally to the project.\n",
    "- Roles and responsibilities will be assigned based on strengths but can rotate as needed.\n",
    "- Tasks will be tracked using a shared document.\n",
    "- Team members should communicate concerns respectfully and constructively.\n",
    "- If conflicts arise, they should be addressed within the team first before going to the professor.\n",
    "- If a teammate is struggling to meet their responsibilities, they should inform the team as soon as possible so adjustments can be made."
   ]
  },
  {
   "cell_type": "markdown",
   "metadata": {},
   "source": [
    "# Project Timeline Proposal"
   ]
  },
  {
   "cell_type": "markdown",
   "metadata": {},
   "source": [
    "| Meeting Date  | Meeting Time| Completed Before Meeting  | Discuss at Meeting |\n",
    "|-------------|-------------------|--------------------------|--------------------|\n",
    "| 1/28        | 4:30 PM              | Read & Think about COGS 108 expectations; brainstorm topics/questions. | Determine the best form of communication and create a group chat for everyone to stay in contact with each other. |\n",
    "| 2/7         | 12 PM             | Background research on possible ideas, topics you do / don’t want to work on. | Discuss and decide on the final project topic; discuss hypothesis; begin background research. Discuss ideal dataset(s) and ethics. |\n",
    "| 2/9         | Before 11:59 PM   | Draft project proposal Search for datasets. | Edit, finalize, and submit proposal. |\n",
    "| 2/23        | Before 11:59 PM   | Figure out the most effective way to webscrape. Import & Wrangle Data. | Review/Edit wrangling/EDA; Discuss Analysis Plan, submit Checkpoint 1 (Data). |\n",
    "| 3/9         | Before 11:59 PM   | Finalize wrangling/EDA; Begin Analysis. | Discuss/edit Analysis; Submit Checkpoint 2 (EDA). |\n",
    "| 3/19        | Before 11:59 PM   | Draft results/conclusion, etc. Discuss and edit the full project. | Turn in Final Project & Group Project Surveys. |"
   ]
  }
 ],
 "metadata": {
  "kernelspec": {
   "display_name": "Python 3 (ipykernel)",
   "language": "python",
   "name": "python3"
  },
  "language_info": {
   "codemirror_mode": {
    "name": "ipython",
    "version": 3
   },
   "file_extension": ".py",
   "mimetype": "text/x-python",
   "name": "python",
   "nbconvert_exporter": "python",
   "pygments_lexer": "ipython3",
   "version": "3.11.5"
  }
 },
 "nbformat": 4,
 "nbformat_minor": 4
}
