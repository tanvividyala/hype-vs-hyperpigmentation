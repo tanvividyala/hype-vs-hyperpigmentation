{
 "cells": [
  {
   "cell_type": "markdown",
   "metadata": {},
   "source": [
    "**If you lost points on the last checkpoint you can get them back by responding to TA/IA feedback**  \n",
    "\n",
    "Update/change the relevant sections where you lost those points, make sure you respond on GitHub Issues to your TA/IA to call their attention to the changes you made here.\n",
    "\n",
    "Please update your Timeline... no battle plan survives contact with the enemy, so make sure we understand how your plans have changed."
   ]
  },
  {
   "cell_type": "markdown",
   "metadata": {},
   "source": [
    "# **COGS 108 - EDA Checkpoint**"
   ]
  },
  {
   "cell_type": "markdown",
   "metadata": {},
   "source": [
    "## Names 👥\n",
    "\n",
    "- Vyomi Seth\n",
    "- Shamita Goyal\n",
    "- Tanvi Vidyala\n",
    "- Sarah Sun"
   ]
  },
  {
   "cell_type": "markdown",
   "metadata": {},
   "source": [
    "## Research Question 🤔"
   ]
  },
  {
   "cell_type": "markdown",
   "metadata": {},
   "source": [
    "How do hyperpigmentation treatments compare between official product marketing and user-generated reviews across Asian and Western beauty markets in the last year? Specifically, how do brands and consumers describe five key brightening ingredients (Vitamin C, Niacinamide, Alpha Arbutin, Kojic Acid, and Tranexamic Acid), and how do marketing claims align with user reviews in terms of linguistic framing, promised benefits, and overall sentiment?"
   ]
  },
  {
   "cell_type": "markdown",
   "metadata": {},
   "source": [
    "## Background and Prior Work 📚"
   ]
  },
  {
   "cell_type": "markdown",
   "metadata": {},
   "source": [
    "### <u>1.1 Intro to Hyperpigmentation </u>\n",
    "Hyperpigmentation occurs when skin cells produce excess melanin, the pigment responsible for skin and hair color. Various factors contribute to this condition, including sun exposure, genetics, hormonal changes (such as pregnancy), and certain medications like antibiotics or oral contraceptives. External influences, including exposure to heavy metals (iron, arsenic, lead), tobacco smoke, and medical conditions such as diabetes, thyroid disorders, and adrenal insufficiency (Addison’s disease), can also trigger or worsen hyperpigmentation. Skin injuries, inflammation, and dermatological conditions like acne and atopic dermatitis may further contribute to dark spots.<sup>[1](#ref1)</sup>\n",
    "\n",
    "### <u>1.2 Types of Hyperpigmentation</u>\n",
    "Several types of hyperpigmentation exist, each with different causes. Freckles darken with sun exposure, age spots develop due to prolonged UV exposure, and melasma appears as dark patches influenced by hormones. Other types, like post-inflammatory hyperpigmentation, result from skin trauma, while acanthosis nigricans is linked to insulin resistance.<sup>[1](#ref1)</sup> In this project, we will examine hyperpigmentation as a whole rather than focusing on specific types.\n",
    "\n",
    "### <u>1.3 Five Main Active Ingredients to Target Hyperpigmentation</u> \n",
    "Various active ingredients are used in skincare products to target hyperpigmentation, with five of the most prominent being Vitamin C, Niacinamide, Alpha Arbutin, Kojic Acid, and Tranexamic Acid. We will be analyzing and looking out for these ingredients as a key factor in our analysis. \n",
    "\n",
    "- **Vitamin C** is a powerful antioxidant that helps protect the skin from UV-induced damage, a common trigger for melasma. It also brightens the skin by inhibiting melanin production and works even more effectively when combined with other skin-lightening ingredients.<sup>[2](#ref2)</sup>\n",
    "- **Niacinamide**, a form of Vitamin B3, is a well-tolerated ingredient known for its skin-brightening and anti-inflammatory properties. It helps regulate melanosome transfer, leading to a more even skin tone while also promoting hydration and strengthening the skin barrier, making it suitable for various skin types. <sup>[2](#ref2)</sup>\n",
    "- **Alpha arbutin**, a naturally derived antioxidant and skin brightener from the bearberry plant, is a gentler alternative to hydroquinone for reducing hyperpigmentation. <sup>[3](#ref3)</sup>\n",
    "- **Kojic acid**, derived from fermented rice, functions as a tyrosinase inhibitor, reducing melanin production and helping to fade dark patches associated with melasma. <sup>[2](#ref2)</sup>\n",
    "- **Tranexamic acid**, which can be used orally or topically, further aids in melasma treatment by inhibiting melanocyte activation while also offering anti-inflammatory and anti-angiogenic benefits, making it a valuable addition to a comprehensive pigmentation treatment plan. <sup>[2](#ref2)</sup>\n",
    "\n",
    "### <u>1.4 Asian vs Western Markets in Skincare</u> \n",
    "Asian and Western skincare markets operate under distinct cultural and consumer-driven dynamics that shape their marketing strategies. In Asia, skincare is deeply rooted in tradition, with an emphasis on holistic beauty and multi-step routines that prioritize prevention and long-term skin health. This is reflected in marketing approaches that highlight heritage, ingredient efficacy, and time-honored rituals. On the other hand, Western skincare consumers value individuality, simplicity, and innovation, leading to marketing strategies that focus on product differentiation, minimalistic formulations, and ethical considerations such as sustainability and cruelty-free certifications. Marketing language reflects these differences, with Asian brands highlighting “radiance” and “brightening,” while Western brands use terms like “even skin tone” and “dark spot corrector” to emphasize clinical efficacy.<sup>[4](#ref4)</sup>  \n",
    "\n",
    "### <u>1.5 Previous Studies</u> \n",
    "Looking at previous projects, we found that many focus on comparing skincare products across markets, analyzing Sephora reviews, ingredient effectiveness, and consumer sentiment. Some studies examine brightening ingredients like Kojic Acid and Vitamin C in Korean treatments, while others explore marketing claims versus user experiences in Western beauty brands.\n",
    "\n",
    "- The Kaggle project \"Skincare Products EDA & Sentiment Analysis\" by Melissa Monfared explores Sephora’s skincare products using exploratory data analysis (EDA) and sentiment analysis on over 1 million customer reviews. It examines brand popularity, pricing trends, and ingredient usage, along with consumer sentiment toward different products. By applying natural language processing (NLP), the project classifies reviews as positive, neutral, or negative, revealing key themes in customer feedback. This analysis provides insights into consumer preferences and satisfaction, which can be extended to compare marketing claims vs. actual user experiences, particularly for hyperpigmentation treatments in different beauty markets.<sup>[5](#ref5)</sup>  \n",
    "- The Horizon grand review research website provides a detailed analysis of the hyperpigmentation treatment market in South Korea, presenting key statistics and growth projections. It highlights that the market was valued at USD 16.6 million in 2023 and is expected to reach USD 29.2 million by 2030, growing at a CAGR of 8.5%. The website includes graphs and data visualizations to illustrate trends, such as the dominance of age spots as the largest segment and melasma as the fastest-growing indication. Additionally, it compares South Korea’s market performance to other global and regional markets, showcasing insights into the broader hyperpigmentation treatment industry.<sup>[6](#ref6)</sup>\n",
    "- This journal article focuses on key ingredients for hyperpigmentation treatment, specifically niacinamide and tranexamic acid (TXA), as previously discussed. A randomized, double-blind, vehicle-controlled study evaluated the effectiveness of a topical formulation containing 2% niacinamide and 2% TXA in reducing facial hyperpigmentation. Niacinamide, a vitamin B3 derivative, inhibits melanosome transfer from melanocytes to keratinocytes, while TXA prevents UV-induced pigmentation by decreasing melanocyte tyrosinase activity. The 8-week study, conducted on 42 Korean women, found that the niacinamide + TXA formulation significantly (P < 0.05) reduced pigmentation compared to a control group. These findings highlight the potential of this combination as an effective alternative to hydroquinone-based treatments for improving skin tone and addressing irregular pigmentation.<sup>[7](#ref7)</sup>\n",
    "\n",
    "### <u>Summary</u> \n",
    "Collectively, these studies suggest that marketing language, consumer expectations, and review patterns are deeply influenced by cultural perceptions of beauty, shaping how hyperpigmentation treatments are promoted and evaluated in different markets.\n",
    "\n",
    "\n",
    "---\n",
    "\n",
    "## References  \n",
    "\n",
    "<a name=\"ref1\"></a>**[1]** *Demystifying Hyperpigmentation: Causes, Types, and Effective Treatments.* Harvard Health Publishing. [https://www.health.harvard.edu/diseases-and-conditions/demystifying-hyperpigmentation-causes-types-and-effective-treatments](https://www.health.harvard.edu/diseases-and-conditions/demystifying-hyperpigmentation-causes-types-and-effective-treatments) [↩](#ref1)\n",
    "\n",
    "<a name=\"ref2\"></a>**[2]** *Best Ingredients for Hyperpigmentation.* Miiskin. [https://miiskin.com/anti-aging-beauty/best-ingredients-for-hyperpigmentation/](https://miiskin.com/anti-aging-beauty/best-ingredients-for-hyperpigmentation/) [↩](#ref2)\n",
    "\n",
    "<a name=\"ref3\"></a>**[3]** *Everything You Need to Know About Alpha Arbutin.* Naturium. [https://naturium.com/blogs/the-lab-journal/everything-you-need-to-know-about-alpha-arbutin#:~:text=What%20is%20Alpha%20Arbutin%3F,%2C%20and%20post%2Dinflammatory%20pigmentation](https://naturium.com/blogs/the-lab-journal/everything-you-need-to-know-about-alpha-arbutin#:~:text=What%20is%20Alpha%20Arbutin%3F,%2C%20and%20post%2Dinflammatory%20pigmentation) [↩](#ref3)\n",
    "\n",
    "<a name=\"ref4\"></a>**[4]** *East Meets West: How Asian Brands Can Appeal to Western Audiences.* Kadence. [https://kadence.com/en-us/east-meets-west-how-asian-brands-can-appeal-to-western-audiences/#:~:text=For%20instance%2C%20in%20the%20beauty,with%20a%20legacy%20of%20trust](https://kadence.com/en-us/east-meets-west-how-asian-brands-can-appeal-to-western-audiences/#:~:text=For%20instance%2C%20in%20the%20beauty,with%20a%20legacy%20of%20trust) [↩](#ref4)\n",
    "\n",
    "<a name=\"ref5\"></a>**[5]** *Skincare Products EDA & Sentiment Analysis.* Kaggle. [https://www.kaggle.com/code/melissamonfared/skincare-products-eda-sentiment-analysis](https://www.kaggle.com/code/melissamonfared/skincare-products-eda-sentiment-analysis) [↩](#ref5)\n",
    "\n",
    "\n",
    "<a name=\"ref6\"></a>**[6]** *Hyperpigmentation Treatment Market – South Korea.* Grand View Research. [https://www.grandviewresearch.com/horizon/outlook/hyperpigmentation-treatment-market/south-korea](https://www.grandviewresearch.com/horizon/outlook/hyperpigmentation-treatment-market/south-korea) [↩](#ref6)\n",
    "\n",
    "\n",
    "<a name=\"ref7\"></a>**[7]** *Advances in Hyperpigmentation Treatment: A Review.* Wiley Online Library. [https://onlinelibrary.wiley.com/doi/full/10.1111/srt.12107](https://onlinelibrary.wiley.com/doi/full/10.1111/srt.12107) [↩](#ref7)"
   ]
  },
  {
   "cell_type": "markdown",
   "metadata": {},
   "source": [
    "## Hypothesis 💭"
   ]
  },
  {
   "cell_type": "markdown",
   "metadata": {},
   "source": [
    "We predict that Asian skincare markets are more likely to market hyperpigmentation treatments with terms like “whitening” and “brightening,” as well as prioritize gradual improvement whereas Western markets will market hyperpigmentation with terms like “dark spot correction” and “even skin tone” while prioritizing clinical efficiency and fast results. Consumer reviews will mirror these differences as well, with Asian consumers valuing long-term benefits, while Western consumers will expect quickly visible improvements, critiquing products more harshly if the results do not come immediately.\n",
    "\n",
    "We believe this is the case due to cultural differences and differences in beauty norms between Asian countries and Western countries, with a study by Columbia University showing that skin lightening products were used at higher rates by Asian women born outside of the United States than any other demographic assessed. <sup>[8](#ref8)</sup>\n",
    "\n",
    "---\n",
    "\n",
    "### References  \n",
    "\n",
    "<a name=\"ref8\"></a>**[8]** *Impact of Environmental Factors on Skin Hyperpigmentation.* Liebert Publishing. [https://www.liebertpub.com/doi/10.1089/env.2022.0053](https://www.liebertpub.com/doi/10.1089/env.2022.0053) [↩](#ref8)"
   ]
  },
  {
   "cell_type": "markdown",
   "metadata": {},
   "source": [
    "## Data 📊"
   ]
  },
  {
   "cell_type": "markdown",
   "metadata": {},
   "source": [
    "### Data overview\n",
    "\n",
    "For each dataset include the following information\n",
    "- Dataset #1\n",
    "  - Dataset Name: Sephora\n",
    "  - Link to the dataset: Webscraped from the Sephora Website: https://www.sephora.com/shop/dark-spot-remover\n",
    "  - Number of observations: 8,494\n",
    "  - Number of variables: 27 (Only 10 Used for this project)\n",
    "  \n",
    "- Dataset #2\n",
    "  - Dataset Name: Yesstyle\n",
    "  - Link to the dataset: Webscraped from the Yesstyle Website: https://www.yesstyle.com/en/beauty-skincare/list.html/bcc.15544_bpt.46#/s=10&l=1&bt=37&pn=1&bpt=46&bcc=15544&sb=136&t=10\n",
    "  - Number of observations: 8,494\n",
    "  - Number of variables: 27 (Only 10 Used for this project)\n",
    "  \n",
    "  \n",
    "The dataset consists of 8,494 skincare products from Sephora, listing their brand, name, price, rating (0-5 scale), and ingredient lists, highlights, and categories. It includes categorical variables such as product type (e.g., Moisturizer, Cleanser). The key metric variables—price (continuous) and rating (ordinal)—will act as proxies for product accessibility and consumer satisfaction. Since ingredients are stored as long text strings, preprocessing would involve tokenization and named entity recognition to extract and analyze the presence of brightening ingredients. Data cleaning will require handling missing values, standardizing brand names, and converting ratings and prices into normalized ranges for comparing across markets. Another step of preprocessing is adding a column with the product's country of origin, in order to deduce location-based differences in the product."
   ]
  },
  {
   "cell_type": "code",
   "execution_count": 44,
   "metadata": {
    "tags": []
   },
   "outputs": [],
   "source": [
    "import pandas as pd\n",
    "import math\n",
    "import re\n",
    "import plotly.express as px\n",
    "import plotly.graph_objects as go\n",
    "import pandas as pd\n",
    "from collections import Counter\n",
    "from nltk.corpus import stopwords"
   ]
  },
  {
   "cell_type": "markdown",
   "metadata": {
    "tags": []
   },
   "source": [
    "### Dataset #1: Sephora"
   ]
  },
  {
   "cell_type": "markdown",
   "metadata": {},
   "source": [
    "Here we filter for only products that contain the five main ingredients that target hyperpigmentation in the **original_sephora_dataset.csv** file. "
   ]
  },
  {
   "cell_type": "code",
   "execution_count": 2,
   "metadata": {},
   "outputs": [],
   "source": [
    "sephora_skincare = pd.read_csv('data/original_sephora_dataset.csv')"
   ]
  },
  {
   "cell_type": "code",
   "execution_count": 3,
   "metadata": {
    "tags": []
   },
   "outputs": [
    {
     "data": {
      "text/html": [
       "<div>\n",
       "<style scoped>\n",
       "    .dataframe tbody tr th:only-of-type {\n",
       "        vertical-align: middle;\n",
       "    }\n",
       "\n",
       "    .dataframe tbody tr th {\n",
       "        vertical-align: top;\n",
       "    }\n",
       "\n",
       "    .dataframe thead th {\n",
       "        text-align: right;\n",
       "    }\n",
       "</style>\n",
       "<table border=\"1\" class=\"dataframe\">\n",
       "  <thead>\n",
       "    <tr style=\"text-align: right;\">\n",
       "      <th></th>\n",
       "      <th>brand_name</th>\n",
       "      <th>product_name</th>\n",
       "      <th>price_usd</th>\n",
       "      <th>product_description</th>\n",
       "      <th>ingredients</th>\n",
       "      <th>review_count\\t</th>\n",
       "    </tr>\n",
       "  </thead>\n",
       "  <tbody>\n",
       "    <tr>\n",
       "      <th>0</th>\n",
       "      <td>The Ordinary</td>\n",
       "      <td>Glycolic Acid 7% Exfoliating Toner</td>\n",
       "      <td>$13.00</td>\n",
       "      <td>What it is: A daily surface exfoliator that sm...</td>\n",
       "      <td>Aqua (Water), Glycolic Acid, Rosa damascena fl...</td>\n",
       "      <td>4K</td>\n",
       "    </tr>\n",
       "    <tr>\n",
       "      <th>1</th>\n",
       "      <td>Caudalie</td>\n",
       "      <td>Vinoperfect Brightening Dark Spot Serum Vitami...</td>\n",
       "      <td>$82.00</td>\n",
       "      <td>What it is: A brightening serum that combats t...</td>\n",
       "      <td>Aqua/Water/Eau, Butylene Glycol, Glycerin, Coc...</td>\n",
       "      <td>3.5K</td>\n",
       "    </tr>\n",
       "    <tr>\n",
       "      <th>2</th>\n",
       "      <td>The Ordinary</td>\n",
       "      <td>The Resurface &amp; Hydrate Set with Hyaluronic Ac...</td>\n",
       "      <td>$10.00</td>\n",
       "      <td>What it is: A set of two mini serums: one with...</td>\n",
       "      <td>Glycolic Acid, Aqua (Water), Aloe Barbadensis ...</td>\n",
       "      <td>107</td>\n",
       "    </tr>\n",
       "    <tr>\n",
       "      <th>3</th>\n",
       "      <td>The Ordinary</td>\n",
       "      <td>Azelaic Acid 10% Suspension Brightening Cream</td>\n",
       "      <td>$12.20</td>\n",
       "      <td>What it is: A multifunctional cream that visib...</td>\n",
       "      <td>Water, Isodecyl Neopentanoate, Dimethicone, Az...</td>\n",
       "      <td>1.3K</td>\n",
       "    </tr>\n",
       "    <tr>\n",
       "      <th>4</th>\n",
       "      <td>innisfree</td>\n",
       "      <td>Green Tea Enzyme Vitamin C Brightening + Exfol...</td>\n",
       "      <td>$28.00</td>\n",
       "      <td>What it is: A set of daily toner pads with vit...</td>\n",
       "      <td>-Pure Vitamin C and Niacinamide: Help visibly ...</td>\n",
       "      <td>169</td>\n",
       "    </tr>\n",
       "  </tbody>\n",
       "</table>\n",
       "</div>"
      ],
      "text/plain": [
       "     brand_name                                       product_name price_usd  \\\n",
       "0  The Ordinary                 Glycolic Acid 7% Exfoliating Toner    $13.00   \n",
       "1      Caudalie  Vinoperfect Brightening Dark Spot Serum Vitami...    $82.00   \n",
       "2  The Ordinary  The Resurface & Hydrate Set with Hyaluronic Ac...    $10.00   \n",
       "3  The Ordinary      Azelaic Acid 10% Suspension Brightening Cream    $12.20   \n",
       "4     innisfree  Green Tea Enzyme Vitamin C Brightening + Exfol...    $28.00   \n",
       "\n",
       "                                 product_description  \\\n",
       "0  What it is: A daily surface exfoliator that sm...   \n",
       "1  What it is: A brightening serum that combats t...   \n",
       "2  What it is: A set of two mini serums: one with...   \n",
       "3  What it is: A multifunctional cream that visib...   \n",
       "4  What it is: A set of daily toner pads with vit...   \n",
       "\n",
       "                                         ingredients review_count\\t  \n",
       "0  Aqua (Water), Glycolic Acid, Rosa damascena fl...             4K  \n",
       "1  Aqua/Water/Eau, Butylene Glycol, Glycerin, Coc...           3.5K  \n",
       "2  Glycolic Acid, Aqua (Water), Aloe Barbadensis ...            107  \n",
       "3  Water, Isodecyl Neopentanoate, Dimethicone, Az...           1.3K  \n",
       "4  -Pure Vitamin C and Niacinamide: Help visibly ...            169  "
      ]
     },
     "execution_count": 3,
     "metadata": {},
     "output_type": "execute_result"
    }
   ],
   "source": [
    "sephora_skincare.head()"
   ]
  },
  {
   "cell_type": "markdown",
   "metadata": {},
   "source": [
    "### Data Annotation"
   ]
  },
  {
   "cell_type": "markdown",
   "metadata": {},
   "source": [
    "We must label each product with its country of origin, since this wasn't a detail included on the Sephora website. To do this we will utilize the OpenAI API for quick labeling, and fix any errors we may find. I removed the API Key from this notebook after usage."
   ]
  },
  {
   "cell_type": "code",
   "execution_count": 4,
   "metadata": {},
   "outputs": [
    {
     "data": {
      "text/plain": [
       "'\\nimport openai\\n#openai.api_key = \\n\\ndef label_country_of_origin(name):\\n    response = openai.ChatCompletion.create(\\n        model=\"gpt-4o-mini\",\\n        messages=[\\n            {\"role\": \"system\", \"content\": \"You are an assistant that specializes in data annotation.\"},\\n            {\"role\": \"user\", \"content\": f\"Return only the name of the country where the skincare brand {name} is headquartered. Provide no additional information.\"}\\n        ]\\n    )\\n    return response[\\'choices\\'][0][\\'message\\'][\\'content\\']\\n\\nsephora_skincare[\\'country\\'] = sephora_skincare[\\'brand_name\\'].apply(label_country_of_origin)\\n\\n'"
      ]
     },
     "execution_count": 4,
     "metadata": {},
     "output_type": "execute_result"
    }
   ],
   "source": [
    "'''\n",
    "import openai\n",
    "#openai.api_key = \n",
    "\n",
    "def label_country_of_origin(name):\n",
    "    response = openai.ChatCompletion.create(\n",
    "        model=\"gpt-4o-mini\",\n",
    "        messages=[\n",
    "            {\"role\": \"system\", \"content\": \"You are an assistant that specializes in data annotation.\"},\n",
    "            {\"role\": \"user\", \"content\": f\"Return only the name of the country where the skincare brand {name} is headquartered. Provide no additional information.\"}\n",
    "        ]\n",
    "    )\n",
    "    return response['choices'][0]['message']['content']\n",
    "\n",
    "sephora_skincare['country'] = sephora_skincare['brand_name'].apply(label_country_of_origin)\n",
    "\n",
    "'''"
   ]
  },
  {
   "cell_type": "code",
   "execution_count": 5,
   "metadata": {},
   "outputs": [],
   "source": [
    "sephora_skincare = pd.read_csv('data/original_sephora_dataset_with_annotation')"
   ]
  },
  {
   "cell_type": "markdown",
   "metadata": {},
   "source": [
    "### Data Cleaning\n",
    "This code defines three functions to clean and convert data in a sephora_skincare DataFrame:\n",
    "\n",
    "1. **price_to_float** removes dollar signs and converts price strings to floats, returning NaN if conversion fails.\n",
    "2. **review_count_to_float** converts review counts from strings to floats, handling 'K' as thousands.\n",
    "3. **ingredients_only** extracts the first ingredient containing \"Water\" from the ingredient list, ignoring \"Watermelon\".\n",
    "\n",
    "These functions are applied to the respective columns of the sephora_skincare DataFrame using .apply()."
   ]
  },
  {
   "cell_type": "code",
   "execution_count": 6,
   "metadata": {
    "tags": []
   },
   "outputs": [],
   "source": [
    "# removing the '\\t' in the column names\n",
    "sephora_skincare.columns = sephora_skincare.columns.str.replace('\\t', '') "
   ]
  },
  {
   "cell_type": "code",
   "execution_count": 7,
   "metadata": {
    "tags": []
   },
   "outputs": [],
   "source": [
    "def price_to_float(price):\n",
    "    '''removes the dollar signs and converts price strings to floats'''\n",
    "    if isinstance(price, str) == True:\n",
    "        new_price = price.replace('$', '')\n",
    "        try:\n",
    "            return float(new_price)\n",
    "        except ValueError:\n",
    "            return float(\"nan\")\n",
    "    else:\n",
    "        return price\n",
    "\n",
    "def review_count_to_float(count):\n",
    "    '''converts review counts from strings to floats, handling \"K\" as thousands'''\n",
    "    if isinstance(count, str) == True:\n",
    "        if 'K' in count:\n",
    "            count = count.replace('K', '')\n",
    "            return float(count)*1000\n",
    "        else:\n",
    "            return float(count)\n",
    "    return count\n",
    "\n",
    "def ingredients_only(test):\n",
    "    '''extracts the first ingredient containing \"Water\" from the ingredient list, ignoring \"Watermelon'''\n",
    "    if isinstance(test, str) == True:\n",
    "        if ('Watermelon' in test) or ('watermelon' in test):\n",
    "            test = test.replace('Watermelon', '')\n",
    "        list_test = test.split('\\n')\n",
    "        for i in range(len(list_test)):\n",
    "            if ('Water' in list_test[i]) or ('water' in list_test[i]):\n",
    "                return list_test[i]      \n",
    "    else: \n",
    "        return 'nan'\n",
    "\n",
    "# applying the functions to their columns\n",
    "sephora_skincare['price_usd'] = sephora_skincare['price_usd'].apply(price_to_float)\n",
    "sephora_skincare['ingredients'] = sephora_skincare['ingredients'].apply(ingredients_only)\n",
    "sephora_skincare['review_count'] = sephora_skincare['review_count'].apply(review_count_to_float)"
   ]
  },
  {
   "cell_type": "code",
   "execution_count": 8,
   "metadata": {
    "tags": []
   },
   "outputs": [
    {
     "data": {
      "text/html": [
       "<div>\n",
       "<style scoped>\n",
       "    .dataframe tbody tr th:only-of-type {\n",
       "        vertical-align: middle;\n",
       "    }\n",
       "\n",
       "    .dataframe tbody tr th {\n",
       "        vertical-align: top;\n",
       "    }\n",
       "\n",
       "    .dataframe thead th {\n",
       "        text-align: right;\n",
       "    }\n",
       "</style>\n",
       "<table border=\"1\" class=\"dataframe\">\n",
       "  <thead>\n",
       "    <tr style=\"text-align: right;\">\n",
       "      <th></th>\n",
       "      <th>brand_name</th>\n",
       "      <th>product_name</th>\n",
       "      <th>price_usd</th>\n",
       "      <th>product_description</th>\n",
       "      <th>ingredients</th>\n",
       "      <th>review_count</th>\n",
       "      <th>country</th>\n",
       "    </tr>\n",
       "  </thead>\n",
       "  <tbody>\n",
       "    <tr>\n",
       "      <th>0</th>\n",
       "      <td>The Ordinary</td>\n",
       "      <td>Glycolic Acid 7% Exfoliating Toner</td>\n",
       "      <td>13.0</td>\n",
       "      <td>What it is: A daily surface exfoliator that sm...</td>\n",
       "      <td>Aqua (Water), Glycolic Acid, Rosa damascena fl...</td>\n",
       "      <td>4000.0</td>\n",
       "      <td>Canada</td>\n",
       "    </tr>\n",
       "    <tr>\n",
       "      <th>1</th>\n",
       "      <td>Caudalie</td>\n",
       "      <td>Vinoperfect Brightening Dark Spot Serum Vitami...</td>\n",
       "      <td>82.0</td>\n",
       "      <td>What it is: A brightening serum that combats t...</td>\n",
       "      <td>Aqua/Water/Eau, Butylene Glycol, Glycerin, Coc...</td>\n",
       "      <td>3500.0</td>\n",
       "      <td>France</td>\n",
       "    </tr>\n",
       "    <tr>\n",
       "      <th>2</th>\n",
       "      <td>The Ordinary</td>\n",
       "      <td>The Resurface &amp; Hydrate Set with Hyaluronic Ac...</td>\n",
       "      <td>10.0</td>\n",
       "      <td>What it is: A set of two mini serums: one with...</td>\n",
       "      <td>Glycolic Acid, Aqua (Water), Aloe Barbadensis ...</td>\n",
       "      <td>107.0</td>\n",
       "      <td>Canada</td>\n",
       "    </tr>\n",
       "    <tr>\n",
       "      <th>3</th>\n",
       "      <td>The Ordinary</td>\n",
       "      <td>Azelaic Acid 10% Suspension Brightening Cream</td>\n",
       "      <td>12.2</td>\n",
       "      <td>What it is: A multifunctional cream that visib...</td>\n",
       "      <td>Water, Isodecyl Neopentanoate, Dimethicone, Az...</td>\n",
       "      <td>1300.0</td>\n",
       "      <td>Canada</td>\n",
       "    </tr>\n",
       "    <tr>\n",
       "      <th>4</th>\n",
       "      <td>innisfree</td>\n",
       "      <td>Green Tea Enzyme Vitamin C Brightening + Exfol...</td>\n",
       "      <td>28.0</td>\n",
       "      <td>What it is: A set of daily toner pads with vit...</td>\n",
       "      <td>Water/Aqua/Eau, Butylene Glycol, Glycerin, Nia...</td>\n",
       "      <td>169.0</td>\n",
       "      <td>South Korea</td>\n",
       "    </tr>\n",
       "  </tbody>\n",
       "</table>\n",
       "</div>"
      ],
      "text/plain": [
       "     brand_name                                       product_name  price_usd  \\\n",
       "0  The Ordinary                 Glycolic Acid 7% Exfoliating Toner       13.0   \n",
       "1      Caudalie  Vinoperfect Brightening Dark Spot Serum Vitami...       82.0   \n",
       "2  The Ordinary  The Resurface & Hydrate Set with Hyaluronic Ac...       10.0   \n",
       "3  The Ordinary      Azelaic Acid 10% Suspension Brightening Cream       12.2   \n",
       "4     innisfree  Green Tea Enzyme Vitamin C Brightening + Exfol...       28.0   \n",
       "\n",
       "                                 product_description  \\\n",
       "0  What it is: A daily surface exfoliator that sm...   \n",
       "1  What it is: A brightening serum that combats t...   \n",
       "2  What it is: A set of two mini serums: one with...   \n",
       "3  What it is: A multifunctional cream that visib...   \n",
       "4  What it is: A set of daily toner pads with vit...   \n",
       "\n",
       "                                         ingredients  review_count  \\\n",
       "0  Aqua (Water), Glycolic Acid, Rosa damascena fl...        4000.0   \n",
       "1  Aqua/Water/Eau, Butylene Glycol, Glycerin, Coc...        3500.0   \n",
       "2  Glycolic Acid, Aqua (Water), Aloe Barbadensis ...         107.0   \n",
       "3  Water, Isodecyl Neopentanoate, Dimethicone, Az...        1300.0   \n",
       "4  Water/Aqua/Eau, Butylene Glycol, Glycerin, Nia...         169.0   \n",
       "\n",
       "       country  \n",
       "0       Canada  \n",
       "1       France  \n",
       "2       Canada  \n",
       "3       Canada  \n",
       "4  South Korea  "
      ]
     },
     "execution_count": 8,
     "metadata": {},
     "output_type": "execute_result"
    }
   ],
   "source": [
    "# reviewing the data frame after the cleaning stage\n",
    "sephora_skincare.head()"
   ]
  },
  {
   "cell_type": "markdown",
   "metadata": {},
   "source": [
    "### Writing this cleaned dataset in a new csv file called **sephora_dataset2.csv**\n",
    "in order to prevent confusions with our old and cleaned dataset we will put the cleaned dataset into a new csv file and read that"
   ]
  },
  {
   "cell_type": "code",
   "execution_count": 9,
   "metadata": {
    "tags": []
   },
   "outputs": [],
   "source": [
    "# creating a new csv file to put the clean data in\n",
    "sephora_skincare.to_csv('data/sephora_dataset.csv', index=False)"
   ]
  },
  {
   "cell_type": "code",
   "execution_count": 10,
   "metadata": {
    "scrolled": true
   },
   "outputs": [
    {
     "data": {
      "text/html": [
       "<div>\n",
       "<style scoped>\n",
       "    .dataframe tbody tr th:only-of-type {\n",
       "        vertical-align: middle;\n",
       "    }\n",
       "\n",
       "    .dataframe tbody tr th {\n",
       "        vertical-align: top;\n",
       "    }\n",
       "\n",
       "    .dataframe thead th {\n",
       "        text-align: right;\n",
       "    }\n",
       "</style>\n",
       "<table border=\"1\" class=\"dataframe\">\n",
       "  <thead>\n",
       "    <tr style=\"text-align: right;\">\n",
       "      <th></th>\n",
       "      <th>brand_name</th>\n",
       "      <th>product_name</th>\n",
       "      <th>price_usd</th>\n",
       "      <th>product_description</th>\n",
       "      <th>ingredients</th>\n",
       "      <th>review_count</th>\n",
       "      <th>country</th>\n",
       "    </tr>\n",
       "  </thead>\n",
       "  <tbody>\n",
       "    <tr>\n",
       "      <th>0</th>\n",
       "      <td>The Ordinary</td>\n",
       "      <td>Glycolic Acid 7% Exfoliating Toner</td>\n",
       "      <td>13.0</td>\n",
       "      <td>What it is: A daily surface exfoliator that sm...</td>\n",
       "      <td>Aqua (Water), Glycolic Acid, Rosa damascena fl...</td>\n",
       "      <td>4000.0</td>\n",
       "      <td>Canada</td>\n",
       "    </tr>\n",
       "    <tr>\n",
       "      <th>1</th>\n",
       "      <td>Caudalie</td>\n",
       "      <td>Vinoperfect Brightening Dark Spot Serum Vitami...</td>\n",
       "      <td>82.0</td>\n",
       "      <td>What it is: A brightening serum that combats t...</td>\n",
       "      <td>Aqua/Water/Eau, Butylene Glycol, Glycerin, Coc...</td>\n",
       "      <td>3500.0</td>\n",
       "      <td>France</td>\n",
       "    </tr>\n",
       "    <tr>\n",
       "      <th>2</th>\n",
       "      <td>The Ordinary</td>\n",
       "      <td>The Resurface &amp; Hydrate Set with Hyaluronic Ac...</td>\n",
       "      <td>10.0</td>\n",
       "      <td>What it is: A set of two mini serums: one with...</td>\n",
       "      <td>Glycolic Acid, Aqua (Water), Aloe Barbadensis ...</td>\n",
       "      <td>107.0</td>\n",
       "      <td>Canada</td>\n",
       "    </tr>\n",
       "    <tr>\n",
       "      <th>3</th>\n",
       "      <td>The Ordinary</td>\n",
       "      <td>Azelaic Acid 10% Suspension Brightening Cream</td>\n",
       "      <td>12.2</td>\n",
       "      <td>What it is: A multifunctional cream that visib...</td>\n",
       "      <td>Water, Isodecyl Neopentanoate, Dimethicone, Az...</td>\n",
       "      <td>1300.0</td>\n",
       "      <td>Canada</td>\n",
       "    </tr>\n",
       "    <tr>\n",
       "      <th>4</th>\n",
       "      <td>innisfree</td>\n",
       "      <td>Green Tea Enzyme Vitamin C Brightening + Exfol...</td>\n",
       "      <td>28.0</td>\n",
       "      <td>What it is: A set of daily toner pads with vit...</td>\n",
       "      <td>Water/Aqua/Eau, Butylene Glycol, Glycerin, Nia...</td>\n",
       "      <td>169.0</td>\n",
       "      <td>South Korea</td>\n",
       "    </tr>\n",
       "  </tbody>\n",
       "</table>\n",
       "</div>"
      ],
      "text/plain": [
       "     brand_name                                       product_name  price_usd  \\\n",
       "0  The Ordinary                 Glycolic Acid 7% Exfoliating Toner       13.0   \n",
       "1      Caudalie  Vinoperfect Brightening Dark Spot Serum Vitami...       82.0   \n",
       "2  The Ordinary  The Resurface & Hydrate Set with Hyaluronic Ac...       10.0   \n",
       "3  The Ordinary      Azelaic Acid 10% Suspension Brightening Cream       12.2   \n",
       "4     innisfree  Green Tea Enzyme Vitamin C Brightening + Exfol...       28.0   \n",
       "\n",
       "                                 product_description  \\\n",
       "0  What it is: A daily surface exfoliator that sm...   \n",
       "1  What it is: A brightening serum that combats t...   \n",
       "2  What it is: A set of two mini serums: one with...   \n",
       "3  What it is: A multifunctional cream that visib...   \n",
       "4  What it is: A set of daily toner pads with vit...   \n",
       "\n",
       "                                         ingredients  review_count  \\\n",
       "0  Aqua (Water), Glycolic Acid, Rosa damascena fl...        4000.0   \n",
       "1  Aqua/Water/Eau, Butylene Glycol, Glycerin, Coc...        3500.0   \n",
       "2  Glycolic Acid, Aqua (Water), Aloe Barbadensis ...         107.0   \n",
       "3  Water, Isodecyl Neopentanoate, Dimethicone, Az...        1300.0   \n",
       "4  Water/Aqua/Eau, Butylene Glycol, Glycerin, Nia...         169.0   \n",
       "\n",
       "       country  \n",
       "0       Canada  \n",
       "1       France  \n",
       "2       Canada  \n",
       "3       Canada  \n",
       "4  South Korea  "
      ]
     },
     "execution_count": 10,
     "metadata": {},
     "output_type": "execute_result"
    }
   ],
   "source": [
    "# reading in the dataset\n",
    "sephora_skincare = pd.read_csv('data/sephora_dataset.csv')\n",
    "sephora_skincare.head()"
   ]
  },
  {
   "cell_type": "markdown",
   "metadata": {
    "tags": []
   },
   "source": [
    "### Dataset #2: Yesstyle"
   ]
  },
  {
   "cell_type": "code",
   "execution_count": 11,
   "metadata": {},
   "outputs": [],
   "source": [
    "yesstyle_skincare = pd.read_csv('data/original_yesstyle.csv')"
   ]
  },
  {
   "cell_type": "code",
   "execution_count": 12,
   "metadata": {
    "tags": []
   },
   "outputs": [],
   "source": [
    "yesstyle_skincare = pd.read_csv('data/original_yesstyle.csv')\n",
    "\n",
    "def price_to_float(price):\n",
    "    new_price = re.sub(r\"[^\\d.]\", \"\", price)  \n",
    "    try:\n",
    "        return float(new_price)\n",
    "    except ValueError:\n",
    "        return float(\"nan\")\n",
    "\n",
    "def product_name_without_brand(name):\n",
    "    product_split = name.split(\" - \")\n",
    "    if product_split[1] == 'Y':\n",
    "        return product_split[2]\n",
    "    else:\n",
    "        return str(product_split[1])\n",
    "    \n",
    "def yesstyle_review_count_to_float(count):\n",
    "    if isinstance(count, str) == True:\n",
    "        if ',' in count:\n",
    "            count = count.replace(',', '')\n",
    "            return float(count)\n",
    "        else:\n",
    "            return float(count)\n",
    "    return count\n",
    "    \n",
    "yesstyle_skincare['product_name'] = yesstyle_skincare['product_name'].apply(product_name_without_brand)\n",
    "yesstyle_skincare['price_usd'] = yesstyle_skincare['price_usd'].apply(price_to_float)\n",
    "yesstyle_skincare['review_count'] = yesstyle_skincare['review_count'].apply(yesstyle_review_count_to_float)"
   ]
  },
  {
   "cell_type": "code",
   "execution_count": 13,
   "metadata": {
    "tags": []
   },
   "outputs": [],
   "source": [
    "yesstyle_skincare = yesstyle_skincare.drop_duplicates().reset_index(drop = True)\n",
    "yesstyle_skincare = yesstyle_skincare.drop(columns = ['approval_rating'])\n",
    "yesstyle_skincare['country'] = 'South Korea'"
   ]
  },
  {
   "cell_type": "code",
   "execution_count": 14,
   "metadata": {
    "tags": []
   },
   "outputs": [
    {
     "data": {
      "text/html": [
       "<div>\n",
       "<style scoped>\n",
       "    .dataframe tbody tr th:only-of-type {\n",
       "        vertical-align: middle;\n",
       "    }\n",
       "\n",
       "    .dataframe tbody tr th {\n",
       "        vertical-align: top;\n",
       "    }\n",
       "\n",
       "    .dataframe thead th {\n",
       "        text-align: right;\n",
       "    }\n",
       "</style>\n",
       "<table border=\"1\" class=\"dataframe\">\n",
       "  <thead>\n",
       "    <tr style=\"text-align: right;\">\n",
       "      <th></th>\n",
       "      <th>brand_name</th>\n",
       "      <th>product_name</th>\n",
       "      <th>price_usd</th>\n",
       "      <th>product_description</th>\n",
       "      <th>ingredients</th>\n",
       "      <th>review_count</th>\n",
       "      <th>country</th>\n",
       "    </tr>\n",
       "  </thead>\n",
       "  <tbody>\n",
       "    <tr>\n",
       "      <th>0</th>\n",
       "      <td>Dr. Althea</td>\n",
       "      <td>345 Relief Cream</td>\n",
       "      <td>24.30</td>\n",
       "      <td>Shield your skin from environmental damage wit...</td>\n",
       "      <td>Water, Propanediol, Glycerin, Cyclohexasiloxan...</td>\n",
       "      <td>4226.0</td>\n",
       "      <td>South Korea</td>\n",
       "    </tr>\n",
       "    <tr>\n",
       "      <th>1</th>\n",
       "      <td>APLB</td>\n",
       "      <td>Glutathione Niacinamide Sheet Mask</td>\n",
       "      <td>0.99</td>\n",
       "      <td>Perk up dull skin instantly with this sheet ma...</td>\n",
       "      <td>Water, Centella Asiatica Extract (13.5%), Buty...</td>\n",
       "      <td>2979.0</td>\n",
       "      <td>South Korea</td>\n",
       "    </tr>\n",
       "    <tr>\n",
       "      <th>2</th>\n",
       "      <td>Anua</td>\n",
       "      <td>Niacinamide 10 TXA 4 Serum</td>\n",
       "      <td>15.20</td>\n",
       "      <td>Tackle hyperpigmentation with this serum formu...</td>\n",
       "      <td>Water, Glycerin, Niacinamide, Tranexamic Acid,...</td>\n",
       "      <td>5543.0</td>\n",
       "      <td>South Korea</td>\n",
       "    </tr>\n",
       "    <tr>\n",
       "      <th>3</th>\n",
       "      <td>SKIN 1004</td>\n",
       "      <td>Madagascar Centella Tone Brightening Capsule A...</td>\n",
       "      <td>16.61</td>\n",
       "      <td>Improve dull and tired skin with this lightwei...</td>\n",
       "      <td>Water, Butylene Glycol, Niacinamide, Glycerin,...</td>\n",
       "      <td>5883.0</td>\n",
       "      <td>South Korea</td>\n",
       "    </tr>\n",
       "    <tr>\n",
       "      <th>4</th>\n",
       "      <td>medicube</td>\n",
       "      <td>PDRN Pink Collagen Gel Mask</td>\n",
       "      <td>4.50</td>\n",
       "      <td>Collagen gel mask packed with elasticity-boost...</td>\n",
       "      <td>Water, Glycerin, Methylpropanediol, Acrylates/...</td>\n",
       "      <td>262.0</td>\n",
       "      <td>South Korea</td>\n",
       "    </tr>\n",
       "    <tr>\n",
       "      <th>...</th>\n",
       "      <td>...</td>\n",
       "      <td>...</td>\n",
       "      <td>...</td>\n",
       "      <td>...</td>\n",
       "      <td>...</td>\n",
       "      <td>...</td>\n",
       "      <td>...</td>\n",
       "    </tr>\n",
       "    <tr>\n",
       "      <th>119</th>\n",
       "      <td>Anua</td>\n",
       "      <td>Rice Enzyme Brightening Cleansing Powder</td>\n",
       "      <td>13.69</td>\n",
       "      <td>Purify pores, brighten skin and amp up hydrati...</td>\n",
       "      <td>Zea Mays (Corn) Starch , Sodium Cocoyl Isethio...</td>\n",
       "      <td>447.0</td>\n",
       "      <td>South Korea</td>\n",
       "    </tr>\n",
       "    <tr>\n",
       "      <th>120</th>\n",
       "      <td>SOME BY MI</td>\n",
       "      <td>Retinol Intense Reactivating Serum</td>\n",
       "      <td>22.30</td>\n",
       "      <td>This serum is infused with retinol, retinal an...</td>\n",
       "      <td>Water, Cyclohexasiloxane, Dicaprylyl Carbonate...</td>\n",
       "      <td>1530.0</td>\n",
       "      <td>South Korea</td>\n",
       "    </tr>\n",
       "    <tr>\n",
       "      <th>121</th>\n",
       "      <td>Purito SEOUL</td>\n",
       "      <td>Wonder Releaf Centella Cream Unscented</td>\n",
       "      <td>14.70</td>\n",
       "      <td>Formerly the Centella Unscented Recovery Cream...</td>\n",
       "      <td>NaN</td>\n",
       "      <td>1296.0</td>\n",
       "      <td>South Korea</td>\n",
       "    </tr>\n",
       "    <tr>\n",
       "      <th>122</th>\n",
       "      <td>MACQUEEN</td>\n",
       "      <td>Collagen Vita Wrinkle Multi Balm</td>\n",
       "      <td>8.10</td>\n",
       "      <td>Infused with fish collagen from France, peptid...</td>\n",
       "      <td>Helianthus annuus (Sunflower) Seed Oil, Octyld...</td>\n",
       "      <td>1824.0</td>\n",
       "      <td>South Korea</td>\n",
       "    </tr>\n",
       "    <tr>\n",
       "      <th>123</th>\n",
       "      <td>Beauty of Joseon</td>\n",
       "      <td>Radiance Cleansing Balm NEW</td>\n",
       "      <td>17.10</td>\n",
       "      <td>This renewed version of Radiance Cleansing Bal...</td>\n",
       "      <td>Cetyl Ethylhexanoate, Caprylic/Capric Triglyce...</td>\n",
       "      <td>2801.0</td>\n",
       "      <td>South Korea</td>\n",
       "    </tr>\n",
       "  </tbody>\n",
       "</table>\n",
       "<p>124 rows × 7 columns</p>\n",
       "</div>"
      ],
      "text/plain": [
       "           brand_name                                       product_name  \\\n",
       "0          Dr. Althea                                   345 Relief Cream   \n",
       "1                APLB                 Glutathione Niacinamide Sheet Mask   \n",
       "2                Anua                         Niacinamide 10 TXA 4 Serum   \n",
       "3           SKIN 1004  Madagascar Centella Tone Brightening Capsule A...   \n",
       "4            medicube                        PDRN Pink Collagen Gel Mask   \n",
       "..                ...                                                ...   \n",
       "119              Anua           Rice Enzyme Brightening Cleansing Powder   \n",
       "120        SOME BY MI                 Retinol Intense Reactivating Serum   \n",
       "121      Purito SEOUL             Wonder Releaf Centella Cream Unscented   \n",
       "122          MACQUEEN                   Collagen Vita Wrinkle Multi Balm   \n",
       "123  Beauty of Joseon                        Radiance Cleansing Balm NEW   \n",
       "\n",
       "     price_usd                                product_description  \\\n",
       "0        24.30  Shield your skin from environmental damage wit...   \n",
       "1         0.99  Perk up dull skin instantly with this sheet ma...   \n",
       "2        15.20  Tackle hyperpigmentation with this serum formu...   \n",
       "3        16.61  Improve dull and tired skin with this lightwei...   \n",
       "4         4.50  Collagen gel mask packed with elasticity-boost...   \n",
       "..         ...                                                ...   \n",
       "119      13.69  Purify pores, brighten skin and amp up hydrati...   \n",
       "120      22.30  This serum is infused with retinol, retinal an...   \n",
       "121      14.70  Formerly the Centella Unscented Recovery Cream...   \n",
       "122       8.10  Infused with fish collagen from France, peptid...   \n",
       "123      17.10  This renewed version of Radiance Cleansing Bal...   \n",
       "\n",
       "                                           ingredients  review_count  \\\n",
       "0    Water, Propanediol, Glycerin, Cyclohexasiloxan...        4226.0   \n",
       "1    Water, Centella Asiatica Extract (13.5%), Buty...        2979.0   \n",
       "2    Water, Glycerin, Niacinamide, Tranexamic Acid,...        5543.0   \n",
       "3    Water, Butylene Glycol, Niacinamide, Glycerin,...        5883.0   \n",
       "4    Water, Glycerin, Methylpropanediol, Acrylates/...         262.0   \n",
       "..                                                 ...           ...   \n",
       "119  Zea Mays (Corn) Starch , Sodium Cocoyl Isethio...         447.0   \n",
       "120  Water, Cyclohexasiloxane, Dicaprylyl Carbonate...        1530.0   \n",
       "121                                                NaN        1296.0   \n",
       "122  Helianthus annuus (Sunflower) Seed Oil, Octyld...        1824.0   \n",
       "123  Cetyl Ethylhexanoate, Caprylic/Capric Triglyce...        2801.0   \n",
       "\n",
       "         country  \n",
       "0    South Korea  \n",
       "1    South Korea  \n",
       "2    South Korea  \n",
       "3    South Korea  \n",
       "4    South Korea  \n",
       "..           ...  \n",
       "119  South Korea  \n",
       "120  South Korea  \n",
       "121  South Korea  \n",
       "122  South Korea  \n",
       "123  South Korea  \n",
       "\n",
       "[124 rows x 7 columns]"
      ]
     },
     "execution_count": 14,
     "metadata": {},
     "output_type": "execute_result"
    }
   ],
   "source": [
    "yesstyle_skincare"
   ]
  },
  {
   "cell_type": "code",
   "execution_count": 15,
   "metadata": {
    "tags": []
   },
   "outputs": [],
   "source": [
    "yesstyle_skincare.to_csv('data/yesstyle_dataset.csv')"
   ]
  },
  {
   "cell_type": "markdown",
   "metadata": {},
   "source": [
    "### Splitting Collected Datasets into Asian Beauty and Western Skincare "
   ]
  },
  {
   "cell_type": "code",
   "execution_count": 16,
   "metadata": {
    "tags": []
   },
   "outputs": [],
   "source": [
    "skincare = pd.concat([sephora_skincare, yesstyle_skincare], ignore_index=True)"
   ]
  },
  {
   "cell_type": "code",
   "execution_count": 17,
   "metadata": {
    "tags": []
   },
   "outputs": [
    {
     "data": {
      "text/plain": [
       "South Korea             144\n",
       "United States           139\n",
       "France                   15\n",
       "United Kingdom           15\n",
       "Canada                    8\n",
       "Japan                     8\n",
       "Germany                   4\n",
       "Denmark                   4\n",
       "Spain                     2\n",
       "United Arab Emirates      1\n",
       "USA                       1\n",
       "India                     1\n",
       "Australia                 1\n",
       "Name: country, dtype: int64"
      ]
     },
     "execution_count": 17,
     "metadata": {},
     "output_type": "execute_result"
    }
   ],
   "source": [
    "skincare['country'].value_counts()"
   ]
  },
  {
   "cell_type": "code",
   "execution_count": 18,
   "metadata": {
    "tags": []
   },
   "outputs": [],
   "source": [
    "western_countries = ['United States', 'USA', 'Australia', 'France', 'United Kingdom', 'Canada', 'Germany', 'Denmark', 'Australia', 'Spain']\n",
    "asian_countries = ['United Arab Emirates', 'South Korea', 'Japan', 'India']\n",
    "western_skincare = skincare[skincare['country'].isin(western_countries)].reset_index(drop = True)\n",
    "asian_skincare = skincare[skincare['country'].isin(asian_countries)].reset_index(drop = True)"
   ]
  },
  {
   "cell_type": "code",
   "execution_count": 19,
   "metadata": {
    "tags": []
   },
   "outputs": [],
   "source": [
    "western_skincare.to_csv('data/western_skincare.csv')"
   ]
  },
  {
   "cell_type": "code",
   "execution_count": 20,
   "metadata": {
    "tags": []
   },
   "outputs": [],
   "source": [
    "asian_skincare.to_csv('data/asian_skincare.csv')"
   ]
  },
  {
   "cell_type": "markdown",
   "metadata": {},
   "source": [
    "## Exploratory Data Analysis 📈"
   ]
  },
  {
   "cell_type": "markdown",
   "metadata": {},
   "source": [
    "### Comparing Most Common Ingredients Across Western and Asian Datasets\n",
    "\n",
    "We wanted to compare how often key brightening ingredients—Vitamin C, Niacinamide, Alpha Arbutin, Kojic Acid, and Tranexamic Acid—appear in product descriptions from American and Korean skincare brands. To do this, we searched for ingredient mentions in the dataset and counted their frequency. This allows us to determine whether American or Korean skincare brands emphasize different ingredients in their marketing. We visualized the ingredient mentions using bar charts, making it easier to see which ingredients are most popular in each region."
   ]
  },
  {
   "cell_type": "code",
   "execution_count": 66,
   "metadata": {},
   "outputs": [
    {
     "data": {
      "application/vnd.plotly.v1+json": {
       "config": {
        "plotlyServerURL": "https://plot.ly"
       },
       "data": [
        {
         "alignmentgroup": "True",
         "hovertemplate": "Category=Western Skincare<br>Brightening Ingredient=%{x}<br>Number of Mentions=%{y}<extra></extra>",
         "legendgroup": "Western Skincare",
         "marker": {
          "color": "#636EFA",
          "pattern": {
           "shape": ""
          }
         },
         "name": "Western Skincare",
         "offsetgroup": "Western Skincare",
         "orientation": "v",
         "showlegend": true,
         "textposition": "auto",
         "type": "bar",
         "x": [
          "Vitamin C",
          "Niacinamide",
          "Alpha Arbutin",
          "Kojic Acid",
          "Tranexamic Acid"
         ],
         "xaxis": "x",
         "y": [
          1,
          47,
          1,
          5,
          17
         ],
         "yaxis": "y"
        },
        {
         "alignmentgroup": "True",
         "hovertemplate": "Category=Asian Skincare<br>Brightening Ingredient=%{x}<br>Number of Mentions=%{y}<extra></extra>",
         "legendgroup": "Asian Skincare",
         "marker": {
          "color": "#EF553B",
          "pattern": {
           "shape": ""
          }
         },
         "name": "Asian Skincare",
         "offsetgroup": "Asian Skincare",
         "orientation": "v",
         "showlegend": true,
         "textposition": "auto",
         "type": "bar",
         "x": [
          "Vitamin C",
          "Niacinamide",
          "Alpha Arbutin",
          "Kojic Acid",
          "Tranexamic Acid"
         ],
         "xaxis": "x",
         "y": [
          2,
          98,
          0,
          0,
          13
         ],
         "yaxis": "y"
        }
       ],
       "layout": {
        "autosize": true,
        "barmode": "group",
        "legend": {
         "title": {
          "text": "Category"
         },
         "tracegroupgap": 0
        },
        "template": {
         "data": {
          "bar": [
           {
            "error_x": {
             "color": "#2a3f5f"
            },
            "error_y": {
             "color": "#2a3f5f"
            },
            "marker": {
             "line": {
              "color": "white",
              "width": 0.5
             },
             "pattern": {
              "fillmode": "overlay",
              "size": 10,
              "solidity": 0.2
             }
            },
            "type": "bar"
           }
          ],
          "barpolar": [
           {
            "marker": {
             "line": {
              "color": "white",
              "width": 0.5
             },
             "pattern": {
              "fillmode": "overlay",
              "size": 10,
              "solidity": 0.2
             }
            },
            "type": "barpolar"
           }
          ],
          "carpet": [
           {
            "aaxis": {
             "endlinecolor": "#2a3f5f",
             "gridcolor": "#C8D4E3",
             "linecolor": "#C8D4E3",
             "minorgridcolor": "#C8D4E3",
             "startlinecolor": "#2a3f5f"
            },
            "baxis": {
             "endlinecolor": "#2a3f5f",
             "gridcolor": "#C8D4E3",
             "linecolor": "#C8D4E3",
             "minorgridcolor": "#C8D4E3",
             "startlinecolor": "#2a3f5f"
            },
            "type": "carpet"
           }
          ],
          "choropleth": [
           {
            "colorbar": {
             "outlinewidth": 0,
             "ticks": ""
            },
            "type": "choropleth"
           }
          ],
          "contour": [
           {
            "colorbar": {
             "outlinewidth": 0,
             "ticks": ""
            },
            "colorscale": [
             [
              0,
              "#0d0887"
             ],
             [
              0.1111111111111111,
              "#46039f"
             ],
             [
              0.2222222222222222,
              "#7201a8"
             ],
             [
              0.3333333333333333,
              "#9c179e"
             ],
             [
              0.4444444444444444,
              "#bd3786"
             ],
             [
              0.5555555555555556,
              "#d8576b"
             ],
             [
              0.6666666666666666,
              "#ed7953"
             ],
             [
              0.7777777777777778,
              "#fb9f3a"
             ],
             [
              0.8888888888888888,
              "#fdca26"
             ],
             [
              1,
              "#f0f921"
             ]
            ],
            "type": "contour"
           }
          ],
          "contourcarpet": [
           {
            "colorbar": {
             "outlinewidth": 0,
             "ticks": ""
            },
            "type": "contourcarpet"
           }
          ],
          "heatmap": [
           {
            "colorbar": {
             "outlinewidth": 0,
             "ticks": ""
            },
            "colorscale": [
             [
              0,
              "#0d0887"
             ],
             [
              0.1111111111111111,
              "#46039f"
             ],
             [
              0.2222222222222222,
              "#7201a8"
             ],
             [
              0.3333333333333333,
              "#9c179e"
             ],
             [
              0.4444444444444444,
              "#bd3786"
             ],
             [
              0.5555555555555556,
              "#d8576b"
             ],
             [
              0.6666666666666666,
              "#ed7953"
             ],
             [
              0.7777777777777778,
              "#fb9f3a"
             ],
             [
              0.8888888888888888,
              "#fdca26"
             ],
             [
              1,
              "#f0f921"
             ]
            ],
            "type": "heatmap"
           }
          ],
          "heatmapgl": [
           {
            "colorbar": {
             "outlinewidth": 0,
             "ticks": ""
            },
            "colorscale": [
             [
              0,
              "#0d0887"
             ],
             [
              0.1111111111111111,
              "#46039f"
             ],
             [
              0.2222222222222222,
              "#7201a8"
             ],
             [
              0.3333333333333333,
              "#9c179e"
             ],
             [
              0.4444444444444444,
              "#bd3786"
             ],
             [
              0.5555555555555556,
              "#d8576b"
             ],
             [
              0.6666666666666666,
              "#ed7953"
             ],
             [
              0.7777777777777778,
              "#fb9f3a"
             ],
             [
              0.8888888888888888,
              "#fdca26"
             ],
             [
              1,
              "#f0f921"
             ]
            ],
            "type": "heatmapgl"
           }
          ],
          "histogram": [
           {
            "marker": {
             "pattern": {
              "fillmode": "overlay",
              "size": 10,
              "solidity": 0.2
             }
            },
            "type": "histogram"
           }
          ],
          "histogram2d": [
           {
            "colorbar": {
             "outlinewidth": 0,
             "ticks": ""
            },
            "colorscale": [
             [
              0,
              "#0d0887"
             ],
             [
              0.1111111111111111,
              "#46039f"
             ],
             [
              0.2222222222222222,
              "#7201a8"
             ],
             [
              0.3333333333333333,
              "#9c179e"
             ],
             [
              0.4444444444444444,
              "#bd3786"
             ],
             [
              0.5555555555555556,
              "#d8576b"
             ],
             [
              0.6666666666666666,
              "#ed7953"
             ],
             [
              0.7777777777777778,
              "#fb9f3a"
             ],
             [
              0.8888888888888888,
              "#fdca26"
             ],
             [
              1,
              "#f0f921"
             ]
            ],
            "type": "histogram2d"
           }
          ],
          "histogram2dcontour": [
           {
            "colorbar": {
             "outlinewidth": 0,
             "ticks": ""
            },
            "colorscale": [
             [
              0,
              "#0d0887"
             ],
             [
              0.1111111111111111,
              "#46039f"
             ],
             [
              0.2222222222222222,
              "#7201a8"
             ],
             [
              0.3333333333333333,
              "#9c179e"
             ],
             [
              0.4444444444444444,
              "#bd3786"
             ],
             [
              0.5555555555555556,
              "#d8576b"
             ],
             [
              0.6666666666666666,
              "#ed7953"
             ],
             [
              0.7777777777777778,
              "#fb9f3a"
             ],
             [
              0.8888888888888888,
              "#fdca26"
             ],
             [
              1,
              "#f0f921"
             ]
            ],
            "type": "histogram2dcontour"
           }
          ],
          "mesh3d": [
           {
            "colorbar": {
             "outlinewidth": 0,
             "ticks": ""
            },
            "type": "mesh3d"
           }
          ],
          "parcoords": [
           {
            "line": {
             "colorbar": {
              "outlinewidth": 0,
              "ticks": ""
             }
            },
            "type": "parcoords"
           }
          ],
          "pie": [
           {
            "automargin": true,
            "type": "pie"
           }
          ],
          "scatter": [
           {
            "fillpattern": {
             "fillmode": "overlay",
             "size": 10,
             "solidity": 0.2
            },
            "type": "scatter"
           }
          ],
          "scatter3d": [
           {
            "line": {
             "colorbar": {
              "outlinewidth": 0,
              "ticks": ""
             }
            },
            "marker": {
             "colorbar": {
              "outlinewidth": 0,
              "ticks": ""
             }
            },
            "type": "scatter3d"
           }
          ],
          "scattercarpet": [
           {
            "marker": {
             "colorbar": {
              "outlinewidth": 0,
              "ticks": ""
             }
            },
            "type": "scattercarpet"
           }
          ],
          "scattergeo": [
           {
            "marker": {
             "colorbar": {
              "outlinewidth": 0,
              "ticks": ""
             }
            },
            "type": "scattergeo"
           }
          ],
          "scattergl": [
           {
            "marker": {
             "colorbar": {
              "outlinewidth": 0,
              "ticks": ""
             }
            },
            "type": "scattergl"
           }
          ],
          "scattermapbox": [
           {
            "marker": {
             "colorbar": {
              "outlinewidth": 0,
              "ticks": ""
             }
            },
            "type": "scattermapbox"
           }
          ],
          "scatterpolar": [
           {
            "marker": {
             "colorbar": {
              "outlinewidth": 0,
              "ticks": ""
             }
            },
            "type": "scatterpolar"
           }
          ],
          "scatterpolargl": [
           {
            "marker": {
             "colorbar": {
              "outlinewidth": 0,
              "ticks": ""
             }
            },
            "type": "scatterpolargl"
           }
          ],
          "scatterternary": [
           {
            "marker": {
             "colorbar": {
              "outlinewidth": 0,
              "ticks": ""
             }
            },
            "type": "scatterternary"
           }
          ],
          "surface": [
           {
            "colorbar": {
             "outlinewidth": 0,
             "ticks": ""
            },
            "colorscale": [
             [
              0,
              "#0d0887"
             ],
             [
              0.1111111111111111,
              "#46039f"
             ],
             [
              0.2222222222222222,
              "#7201a8"
             ],
             [
              0.3333333333333333,
              "#9c179e"
             ],
             [
              0.4444444444444444,
              "#bd3786"
             ],
             [
              0.5555555555555556,
              "#d8576b"
             ],
             [
              0.6666666666666666,
              "#ed7953"
             ],
             [
              0.7777777777777778,
              "#fb9f3a"
             ],
             [
              0.8888888888888888,
              "#fdca26"
             ],
             [
              1,
              "#f0f921"
             ]
            ],
            "type": "surface"
           }
          ],
          "table": [
           {
            "cells": {
             "fill": {
              "color": "#EBF0F8"
             },
             "line": {
              "color": "white"
             }
            },
            "header": {
             "fill": {
              "color": "#C8D4E3"
             },
             "line": {
              "color": "white"
             }
            },
            "type": "table"
           }
          ]
         },
         "layout": {
          "annotationdefaults": {
           "arrowcolor": "#2a3f5f",
           "arrowhead": 0,
           "arrowwidth": 1
          },
          "autotypenumbers": "strict",
          "coloraxis": {
           "colorbar": {
            "outlinewidth": 0,
            "ticks": ""
           }
          },
          "colorscale": {
           "diverging": [
            [
             0,
             "#8e0152"
            ],
            [
             0.1,
             "#c51b7d"
            ],
            [
             0.2,
             "#de77ae"
            ],
            [
             0.3,
             "#f1b6da"
            ],
            [
             0.4,
             "#fde0ef"
            ],
            [
             0.5,
             "#f7f7f7"
            ],
            [
             0.6,
             "#e6f5d0"
            ],
            [
             0.7,
             "#b8e186"
            ],
            [
             0.8,
             "#7fbc41"
            ],
            [
             0.9,
             "#4d9221"
            ],
            [
             1,
             "#276419"
            ]
           ],
           "sequential": [
            [
             0,
             "#0d0887"
            ],
            [
             0.1111111111111111,
             "#46039f"
            ],
            [
             0.2222222222222222,
             "#7201a8"
            ],
            [
             0.3333333333333333,
             "#9c179e"
            ],
            [
             0.4444444444444444,
             "#bd3786"
            ],
            [
             0.5555555555555556,
             "#d8576b"
            ],
            [
             0.6666666666666666,
             "#ed7953"
            ],
            [
             0.7777777777777778,
             "#fb9f3a"
            ],
            [
             0.8888888888888888,
             "#fdca26"
            ],
            [
             1,
             "#f0f921"
            ]
           ],
           "sequentialminus": [
            [
             0,
             "#0d0887"
            ],
            [
             0.1111111111111111,
             "#46039f"
            ],
            [
             0.2222222222222222,
             "#7201a8"
            ],
            [
             0.3333333333333333,
             "#9c179e"
            ],
            [
             0.4444444444444444,
             "#bd3786"
            ],
            [
             0.5555555555555556,
             "#d8576b"
            ],
            [
             0.6666666666666666,
             "#ed7953"
            ],
            [
             0.7777777777777778,
             "#fb9f3a"
            ],
            [
             0.8888888888888888,
             "#fdca26"
            ],
            [
             1,
             "#f0f921"
            ]
           ]
          },
          "colorway": [
           "#636efa",
           "#EF553B",
           "#00cc96",
           "#ab63fa",
           "#FFA15A",
           "#19d3f3",
           "#FF6692",
           "#B6E880",
           "#FF97FF",
           "#FECB52"
          ],
          "font": {
           "color": "#2a3f5f"
          },
          "geo": {
           "bgcolor": "white",
           "lakecolor": "white",
           "landcolor": "white",
           "showlakes": true,
           "showland": true,
           "subunitcolor": "#C8D4E3"
          },
          "hoverlabel": {
           "align": "left"
          },
          "hovermode": "closest",
          "mapbox": {
           "style": "light"
          },
          "paper_bgcolor": "white",
          "plot_bgcolor": "white",
          "polar": {
           "angularaxis": {
            "gridcolor": "#EBF0F8",
            "linecolor": "#EBF0F8",
            "ticks": ""
           },
           "bgcolor": "white",
           "radialaxis": {
            "gridcolor": "#EBF0F8",
            "linecolor": "#EBF0F8",
            "ticks": ""
           }
          },
          "scene": {
           "xaxis": {
            "backgroundcolor": "white",
            "gridcolor": "#DFE8F3",
            "gridwidth": 2,
            "linecolor": "#EBF0F8",
            "showbackground": true,
            "ticks": "",
            "zerolinecolor": "#EBF0F8"
           },
           "yaxis": {
            "backgroundcolor": "white",
            "gridcolor": "#DFE8F3",
            "gridwidth": 2,
            "linecolor": "#EBF0F8",
            "showbackground": true,
            "ticks": "",
            "zerolinecolor": "#EBF0F8"
           },
           "zaxis": {
            "backgroundcolor": "white",
            "gridcolor": "#DFE8F3",
            "gridwidth": 2,
            "linecolor": "#EBF0F8",
            "showbackground": true,
            "ticks": "",
            "zerolinecolor": "#EBF0F8"
           }
          },
          "shapedefaults": {
           "line": {
            "color": "#2a3f5f"
           }
          },
          "ternary": {
           "aaxis": {
            "gridcolor": "#DFE8F3",
            "linecolor": "#A2B1C6",
            "ticks": ""
           },
           "baxis": {
            "gridcolor": "#DFE8F3",
            "linecolor": "#A2B1C6",
            "ticks": ""
           },
           "bgcolor": "white",
           "caxis": {
            "gridcolor": "#DFE8F3",
            "linecolor": "#A2B1C6",
            "ticks": ""
           }
          },
          "title": {
           "x": 0.05
          },
          "xaxis": {
           "automargin": true,
           "gridcolor": "#EBF0F8",
           "linecolor": "#EBF0F8",
           "ticks": "",
           "title": {
            "standoff": 15
           },
           "zerolinecolor": "#EBF0F8",
           "zerolinewidth": 2
          },
          "yaxis": {
           "automargin": true,
           "gridcolor": "#EBF0F8",
           "linecolor": "#EBF0F8",
           "ticks": "",
           "title": {
            "standoff": 15
           },
           "zerolinecolor": "#EBF0F8",
           "zerolinewidth": 2
          }
         }
        },
        "title": {
         "text": "Ingredient Mentions in Marketing Descriptions"
        },
        "xaxis": {
         "anchor": "y",
         "autorange": true,
         "domain": [
          0,
          1
         ],
         "range": [
          -0.5,
          4.5
         ],
         "title": {
          "text": "Brightening Ingredient"
         },
         "type": "category"
        },
        "yaxis": {
         "anchor": "x",
         "autorange": true,
         "domain": [
          0,
          1
         ],
         "range": [
          0,
          103.15789473684211
         ],
         "title": {
          "text": "Number of Mentions"
         },
         "type": "linear"
        }
       }
      },
      "image/png": "[encoded data removed]",
      "text/html": [
       "<div>                            <div id=\"6cfb85bc-b8a2-4ca7-bc1f-030d99c3249b\" class=\"plotly-graph-div\" style=\"height:525px; width:100%;\"></div>            <script type=\"text/javascript\">                require([\"plotly\"], function(Plotly) {                    window.PLOTLYENV=window.PLOTLYENV || {};                                    if (document.getElementById(\"6cfb85bc-b8a2-4ca7-bc1f-030d99c3249b\")) {                    Plotly.newPlot(                        \"6cfb85bc-b8a2-4ca7-bc1f-030d99c3249b\",                        [{\"alignmentgroup\":\"True\",\"hovertemplate\":\"Category=Western Skincare<br>Brightening Ingredient=%{x}<br>Number of Mentions=%{y}<extra></extra>\",\"legendgroup\":\"Western Skincare\",\"marker\":{\"color\":\"#636EFA\",\"pattern\":{\"shape\":\"\"}},\"name\":\"Western Skincare\",\"offsetgroup\":\"Western Skincare\",\"orientation\":\"v\",\"showlegend\":true,\"textposition\":\"auto\",\"x\":[\"Vitamin C\",\"Niacinamide\",\"Alpha Arbutin\",\"Kojic Acid\",\"Tranexamic Acid\"],\"xaxis\":\"x\",\"y\":[1,47,1,5,17],\"yaxis\":\"y\",\"type\":\"bar\"},{\"alignmentgroup\":\"True\",\"hovertemplate\":\"Category=Asian Skincare<br>Brightening Ingredient=%{x}<br>Number of Mentions=%{y}<extra></extra>\",\"legendgroup\":\"Asian Skincare\",\"marker\":{\"color\":\"#EF553B\",\"pattern\":{\"shape\":\"\"}},\"name\":\"Asian Skincare\",\"offsetgroup\":\"Asian Skincare\",\"orientation\":\"v\",\"showlegend\":true,\"textposition\":\"auto\",\"x\":[\"Vitamin C\",\"Niacinamide\",\"Alpha Arbutin\",\"Kojic Acid\",\"Tranexamic Acid\"],\"xaxis\":\"x\",\"y\":[2,98,0,0,13],\"yaxis\":\"y\",\"type\":\"bar\"}],                        {\"template\":{\"data\":{\"barpolar\":[{\"marker\":{\"line\":{\"color\":\"white\",\"width\":0.5},\"pattern\":{\"fillmode\":\"overlay\",\"size\":10,\"solidity\":0.2}},\"type\":\"barpolar\"}],\"bar\":[{\"error_x\":{\"color\":\"#2a3f5f\"},\"error_y\":{\"color\":\"#2a3f5f\"},\"marker\":{\"line\":{\"color\":\"white\",\"width\":0.5},\"pattern\":{\"fillmode\":\"overlay\",\"size\":10,\"solidity\":0.2}},\"type\":\"bar\"}],\"carpet\":[{\"aaxis\":{\"endlinecolor\":\"#2a3f5f\",\"gridcolor\":\"#C8D4E3\",\"linecolor\":\"#C8D4E3\",\"minorgridcolor\":\"#C8D4E3\",\"startlinecolor\":\"#2a3f5f\"},\"baxis\":{\"endlinecolor\":\"#2a3f5f\",\"gridcolor\":\"#C8D4E3\",\"linecolor\":\"#C8D4E3\",\"minorgridcolor\":\"#C8D4E3\",\"startlinecolor\":\"#2a3f5f\"},\"type\":\"carpet\"}],\"choropleth\":[{\"colorbar\":{\"outlinewidth\":0,\"ticks\":\"\"},\"type\":\"choropleth\"}],\"contourcarpet\":[{\"colorbar\":{\"outlinewidth\":0,\"ticks\":\"\"},\"type\":\"contourcarpet\"}],\"contour\":[{\"colorbar\":{\"outlinewidth\":0,\"ticks\":\"\"},\"colorscale\":[[0.0,\"#0d0887\"],[0.1111111111111111,\"#46039f\"],[0.2222222222222222,\"#7201a8\"],[0.3333333333333333,\"#9c179e\"],[0.4444444444444444,\"#bd3786\"],[0.5555555555555556,\"#d8576b\"],[0.6666666666666666,\"#ed7953\"],[0.7777777777777778,\"#fb9f3a\"],[0.8888888888888888,\"#fdca26\"],[1.0,\"#f0f921\"]],\"type\":\"contour\"}],\"heatmapgl\":[{\"colorbar\":{\"outlinewidth\":0,\"ticks\":\"\"},\"colorscale\":[[0.0,\"#0d0887\"],[0.1111111111111111,\"#46039f\"],[0.2222222222222222,\"#7201a8\"],[0.3333333333333333,\"#9c179e\"],[0.4444444444444444,\"#bd3786\"],[0.5555555555555556,\"#d8576b\"],[0.6666666666666666,\"#ed7953\"],[0.7777777777777778,\"#fb9f3a\"],[0.8888888888888888,\"#fdca26\"],[1.0,\"#f0f921\"]],\"type\":\"heatmapgl\"}],\"heatmap\":[{\"colorbar\":{\"outlinewidth\":0,\"ticks\":\"\"},\"colorscale\":[[0.0,\"#0d0887\"],[0.1111111111111111,\"#46039f\"],[0.2222222222222222,\"#7201a8\"],[0.3333333333333333,\"#9c179e\"],[0.4444444444444444,\"#bd3786\"],[0.5555555555555556,\"#d8576b\"],[0.6666666666666666,\"#ed7953\"],[0.7777777777777778,\"#fb9f3a\"],[0.8888888888888888,\"#fdca26\"],[1.0,\"#f0f921\"]],\"type\":\"heatmap\"}],\"histogram2dcontour\":[{\"colorbar\":{\"outlinewidth\":0,\"ticks\":\"\"},\"colorscale\":[[0.0,\"#0d0887\"],[0.1111111111111111,\"#46039f\"],[0.2222222222222222,\"#7201a8\"],[0.3333333333333333,\"#9c179e\"],[0.4444444444444444,\"#bd3786\"],[0.5555555555555556,\"#d8576b\"],[0.6666666666666666,\"#ed7953\"],[0.7777777777777778,\"#fb9f3a\"],[0.8888888888888888,\"#fdca26\"],[1.0,\"#f0f921\"]],\"type\":\"histogram2dcontour\"}],\"histogram2d\":[{\"colorbar\":{\"outlinewidth\":0,\"ticks\":\"\"},\"colorscale\":[[0.0,\"#0d0887\"],[0.1111111111111111,\"#46039f\"],[0.2222222222222222,\"#7201a8\"],[0.3333333333333333,\"#9c179e\"],[0.4444444444444444,\"#bd3786\"],[0.5555555555555556,\"#d8576b\"],[0.6666666666666666,\"#ed7953\"],[0.7777777777777778,\"#fb9f3a\"],[0.8888888888888888,\"#fdca26\"],[1.0,\"#f0f921\"]],\"type\":\"histogram2d\"}],\"histogram\":[{\"marker\":{\"pattern\":{\"fillmode\":\"overlay\",\"size\":10,\"solidity\":0.2}},\"type\":\"histogram\"}],\"mesh3d\":[{\"colorbar\":{\"outlinewidth\":0,\"ticks\":\"\"},\"type\":\"mesh3d\"}],\"parcoords\":[{\"line\":{\"colorbar\":{\"outlinewidth\":0,\"ticks\":\"\"}},\"type\":\"parcoords\"}],\"pie\":[{\"automargin\":true,\"type\":\"pie\"}],\"scatter3d\":[{\"line\":{\"colorbar\":{\"outlinewidth\":0,\"ticks\":\"\"}},\"marker\":{\"colorbar\":{\"outlinewidth\":0,\"ticks\":\"\"}},\"type\":\"scatter3d\"}],\"scattercarpet\":[{\"marker\":{\"colorbar\":{\"outlinewidth\":0,\"ticks\":\"\"}},\"type\":\"scattercarpet\"}],\"scattergeo\":[{\"marker\":{\"colorbar\":{\"outlinewidth\":0,\"ticks\":\"\"}},\"type\":\"scattergeo\"}],\"scattergl\":[{\"marker\":{\"colorbar\":{\"outlinewidth\":0,\"ticks\":\"\"}},\"type\":\"scattergl\"}],\"scattermapbox\":[{\"marker\":{\"colorbar\":{\"outlinewidth\":0,\"ticks\":\"\"}},\"type\":\"scattermapbox\"}],\"scatterpolargl\":[{\"marker\":{\"colorbar\":{\"outlinewidth\":0,\"ticks\":\"\"}},\"type\":\"scatterpolargl\"}],\"scatterpolar\":[{\"marker\":{\"colorbar\":{\"outlinewidth\":0,\"ticks\":\"\"}},\"type\":\"scatterpolar\"}],\"scatter\":[{\"fillpattern\":{\"fillmode\":\"overlay\",\"size\":10,\"solidity\":0.2},\"type\":\"scatter\"}],\"scatterternary\":[{\"marker\":{\"colorbar\":{\"outlinewidth\":0,\"ticks\":\"\"}},\"type\":\"scatterternary\"}],\"surface\":[{\"colorbar\":{\"outlinewidth\":0,\"ticks\":\"\"},\"colorscale\":[[0.0,\"#0d0887\"],[0.1111111111111111,\"#46039f\"],[0.2222222222222222,\"#7201a8\"],[0.3333333333333333,\"#9c179e\"],[0.4444444444444444,\"#bd3786\"],[0.5555555555555556,\"#d8576b\"],[0.6666666666666666,\"#ed7953\"],[0.7777777777777778,\"#fb9f3a\"],[0.8888888888888888,\"#fdca26\"],[1.0,\"#f0f921\"]],\"type\":\"surface\"}],\"table\":[{\"cells\":{\"fill\":{\"color\":\"#EBF0F8\"},\"line\":{\"color\":\"white\"}},\"header\":{\"fill\":{\"color\":\"#C8D4E3\"},\"line\":{\"color\":\"white\"}},\"type\":\"table\"}]},\"layout\":{\"annotationdefaults\":{\"arrowcolor\":\"#2a3f5f\",\"arrowhead\":0,\"arrowwidth\":1},\"autotypenumbers\":\"strict\",\"coloraxis\":{\"colorbar\":{\"outlinewidth\":0,\"ticks\":\"\"}},\"colorscale\":{\"diverging\":[[0,\"#8e0152\"],[0.1,\"#c51b7d\"],[0.2,\"#de77ae\"],[0.3,\"#f1b6da\"],[0.4,\"#fde0ef\"],[0.5,\"#f7f7f7\"],[0.6,\"#e6f5d0\"],[0.7,\"#b8e186\"],[0.8,\"#7fbc41\"],[0.9,\"#4d9221\"],[1,\"#276419\"]],\"sequential\":[[0.0,\"#0d0887\"],[0.1111111111111111,\"#46039f\"],[0.2222222222222222,\"#7201a8\"],[0.3333333333333333,\"#9c179e\"],[0.4444444444444444,\"#bd3786\"],[0.5555555555555556,\"#d8576b\"],[0.6666666666666666,\"#ed7953\"],[0.7777777777777778,\"#fb9f3a\"],[0.8888888888888888,\"#fdca26\"],[1.0,\"#f0f921\"]],\"sequentialminus\":[[0.0,\"#0d0887\"],[0.1111111111111111,\"#46039f\"],[0.2222222222222222,\"#7201a8\"],[0.3333333333333333,\"#9c179e\"],[0.4444444444444444,\"#bd3786\"],[0.5555555555555556,\"#d8576b\"],[0.6666666666666666,\"#ed7953\"],[0.7777777777777778,\"#fb9f3a\"],[0.8888888888888888,\"#fdca26\"],[1.0,\"#f0f921\"]]},\"colorway\":[\"#636efa\",\"#EF553B\",\"#00cc96\",\"#ab63fa\",\"#FFA15A\",\"#19d3f3\",\"#FF6692\",\"#B6E880\",\"#FF97FF\",\"#FECB52\"],\"font\":{\"color\":\"#2a3f5f\"},\"geo\":{\"bgcolor\":\"white\",\"lakecolor\":\"white\",\"landcolor\":\"white\",\"showlakes\":true,\"showland\":true,\"subunitcolor\":\"#C8D4E3\"},\"hoverlabel\":{\"align\":\"left\"},\"hovermode\":\"closest\",\"mapbox\":{\"style\":\"light\"},\"paper_bgcolor\":\"white\",\"plot_bgcolor\":\"white\",\"polar\":{\"angularaxis\":{\"gridcolor\":\"#EBF0F8\",\"linecolor\":\"#EBF0F8\",\"ticks\":\"\"},\"bgcolor\":\"white\",\"radialaxis\":{\"gridcolor\":\"#EBF0F8\",\"linecolor\":\"#EBF0F8\",\"ticks\":\"\"}},\"scene\":{\"xaxis\":{\"backgroundcolor\":\"white\",\"gridcolor\":\"#DFE8F3\",\"gridwidth\":2,\"linecolor\":\"#EBF0F8\",\"showbackground\":true,\"ticks\":\"\",\"zerolinecolor\":\"#EBF0F8\"},\"yaxis\":{\"backgroundcolor\":\"white\",\"gridcolor\":\"#DFE8F3\",\"gridwidth\":2,\"linecolor\":\"#EBF0F8\",\"showbackground\":true,\"ticks\":\"\",\"zerolinecolor\":\"#EBF0F8\"},\"zaxis\":{\"backgroundcolor\":\"white\",\"gridcolor\":\"#DFE8F3\",\"gridwidth\":2,\"linecolor\":\"#EBF0F8\",\"showbackground\":true,\"ticks\":\"\",\"zerolinecolor\":\"#EBF0F8\"}},\"shapedefaults\":{\"line\":{\"color\":\"#2a3f5f\"}},\"ternary\":{\"aaxis\":{\"gridcolor\":\"#DFE8F3\",\"linecolor\":\"#A2B1C6\",\"ticks\":\"\"},\"baxis\":{\"gridcolor\":\"#DFE8F3\",\"linecolor\":\"#A2B1C6\",\"ticks\":\"\"},\"bgcolor\":\"white\",\"caxis\":{\"gridcolor\":\"#DFE8F3\",\"linecolor\":\"#A2B1C6\",\"ticks\":\"\"}},\"title\":{\"x\":0.05},\"xaxis\":{\"automargin\":true,\"gridcolor\":\"#EBF0F8\",\"linecolor\":\"#EBF0F8\",\"ticks\":\"\",\"title\":{\"standoff\":15},\"zerolinecolor\":\"#EBF0F8\",\"zerolinewidth\":2},\"yaxis\":{\"automargin\":true,\"gridcolor\":\"#EBF0F8\",\"linecolor\":\"#EBF0F8\",\"ticks\":\"\",\"title\":{\"standoff\":15},\"zerolinecolor\":\"#EBF0F8\",\"zerolinewidth\":2}}},\"xaxis\":{\"anchor\":\"y\",\"domain\":[0.0,1.0],\"title\":{\"text\":\"Brightening Ingredient\"}},\"yaxis\":{\"anchor\":\"x\",\"domain\":[0.0,1.0],\"title\":{\"text\":\"Number of Mentions\"}},\"legend\":{\"title\":{\"text\":\"Category\"},\"tracegroupgap\":0},\"title\":{\"text\":\"Ingredient Mentions in Marketing Descriptions\"},\"barmode\":\"group\"},                        {\"responsive\": true}                    ).then(function(){\n",
       "                            \n",
       "var gd = document.getElementById('6cfb85bc-b8a2-4ca7-bc1f-030d99c3249b');\n",
       "var x = new MutationObserver(function (mutations, observer) {{\n",
       "        var display = window.getComputedStyle(gd).display;\n",
       "        if (!display || display === 'none') {{\n",
       "            console.log([gd, 'removed!']);\n",
       "            Plotly.purge(gd);\n",
       "            observer.disconnect();\n",
       "        }}\n",
       "}});\n",
       "\n",
       "// Listen for the removal of the full notebook cells\n",
       "var notebookContainer = gd.closest('#notebook-container');\n",
       "if (notebookContainer) {{\n",
       "    x.observe(notebookContainer, {childList: true});\n",
       "}}\n",
       "\n",
       "// Listen for the clearing of the current output cell\n",
       "var outputEl = gd.closest('.output');\n",
       "if (outputEl) {{\n",
       "    x.observe(outputEl, {childList: true});\n",
       "}}\n",
       "\n",
       "                        })                };                });            </script>        </div>"
      ]
     },
     "metadata": {},
     "output_type": "display_data"
    }
   ],
   "source": [
    "# Import necessary libraries\n",
    "import pandas as pd\n",
    "import numpy as np\n",
    "import matplotlib.pyplot as plt\n",
    "import seaborn as sns\n",
    "from collections import Counter\n",
    "\n",
    "# Define key brightening ingredients\n",
    "brightening_ingredients = [\"Vitamin C\", \"Niacinamide\", \"Alpha Arbutin\", \"Kojic Acid\", \"Tranexamic Acid\"]\n",
    "\n",
    "# Function to count ingredient occurrences\n",
    "def count_ingredient_mentions(df, column):\n",
    "    return {ingredient: df[column].str.contains(ingredient, case=False, na=False).sum() for ingredient in brightening_ingredients}\n",
    "\n",
    "# Count ingredient mentions\n",
    "western_mentions = count_ingredient_mentions(western_skincare, \"ingredients\")\n",
    "asian_mentions = count_ingredient_mentions(asian_skincare, \"ingredients\")\n",
    "\n",
    "# Convert to DataFrame\n",
    "ingredient_df = pd.DataFrame({\"Ingredient\": brightening_ingredients, \n",
    "                              \"Western Skincare\": western_mentions.values(),\n",
    "                              \"Asian Skincare\": asian_mentions.values()})\n",
    "\n",
    "# Plot\n",
    "ingredient_df_melted = ingredient_df.melt(id_vars=\"Ingredient\", \n",
    "                                          var_name=\"Category\", \n",
    "                                          value_name=\"Count\")\n",
    "fig = px.bar(\n",
    "    ingredient_df_melted, \n",
    "    x=\"Ingredient\", \n",
    "    y=\"Count\", \n",
    "    color=\"Category\",\n",
    "    barmode=\"group\",\n",
    "    title=\"Ingredient Mentions in Marketing Descriptions\",\n",
    "    labels={\"Count\": \"Number of Mentions\", \"Ingredient\": \"Brightening Ingredient\"},\n",
    "    color_discrete_map={\"Western Skincare\": \"#636EFA\", \"Asian Skincare\": \"#EF553B\"}  # Custom colors\n",
    ")\n",
    "\n",
    "fig.update_layout(\n",
    "    template=\"plotly_white\",\n",
    "    legend_title=\"Category\"\n",
    ")\n",
    "\n",
    "fig.show()\n"
   ]
  },
  {
   "cell_type": "markdown",
   "metadata": {},
   "source": [
    "From the results, Niacinamide stood out as the most frequently mentioned ingredient in both regions, but it appeared more often in Korean skincare (89 mentions) compared to American brands (56 mentions). This suggests that Korean skincare may prioritize Niacinamide even more in their formulations and marketing.\n",
    "\n",
    "Vitamin C, a popular brightening ingredient, was mentioned infrequently overall, with only one mention in American products and two in Korean products. This was surprising, given Vitamin C's reputation as a gold standard for skin brightening. It could indicate that brands in both regions market their brightening products using other ingredients or simply do not emphasize Vitamin C in their descriptions.\n",
    "\n",
    "Alpha Arbutin and Kojic Acid, which are also well-known for their skin-brightening properties, were almost nonexistent in Korean skincare. American brands mentioned Alpha Arbutin once and Kojic Acid five times, while neither ingredient appeared at all in Korean products. This suggests that these two ingredients might be more commonly used or marketed in the American skincare industry.\n",
    "\n",
    "Overall, the biggest takeaway is that Niacinamide is the most dominant brightening ingredient in both American and Korean skincare, but Korean brands emphasize it even more. Meanwhile, ingredients like Alpha Arbutin and Kojic Acid seem to be much more prominent in American skincare, while Tranexamic Acid is emerging as a globally recognized ingredient. This analysis helps highlight how ingredient preferences and marketing strategies differ between the two skincare markets."
   ]
  },
  {
   "cell_type": "markdown",
   "metadata": {},
   "source": [
    "### Price Distribution: American vs. Korean Skincare\n",
    "\n",
    "We wanted to compare the price distributions of American and Korean skincare products to see whether there were significant differences in pricing strategies between the two markets. We visualized the distribution of prices using histograms, which allow us to identify the most common price ranges and determine whether one market tends to be more expensive than the other. If we find that one market consistently offers lower or higher prices, this could reflect differences in product positioning, ingredient sourcing, or branding."
   ]
  },
  {
   "cell_type": "code",
   "execution_count": 46,
   "metadata": {
    "tags": []
   },
   "outputs": [
    {
     "data": {
      "application/vnd.plotly.v1+json": {
       "config": {
        "plotlyServerURL": "https://plot.ly"
       },
       "data": [
        {
         "marker": {
          "color": "#636EFA"
         },
         "name": "Western Skincare",
         "nbinsx": 100,
         "opacity": 0.6,
         "type": "histogram",
         "x": [
          13,
          82,
          10,
          12.2,
          14,
          28,
          68,
          25,
          55,
          14,
          65,
          14,
          28,
          55,
          65,
          18,
          16,
          65,
          38,
          37,
          122,
          79,
          48,
          50,
          52,
          45,
          35,
          12.1,
          39,
          83,
          34,
          48,
          58,
          68,
          59,
          68,
          68,
          47.2,
          69,
          69,
          8.1,
          69,
          82,
          15,
          35,
          35,
          45,
          18,
          42,
          39,
          30,
          40,
          79,
          74,
          60,
          36,
          120,
          42,
          34,
          62,
          119,
          69,
          79,
          38,
          68,
          65,
          95,
          90,
          39,
          34,
          46,
          32,
          28,
          56,
          32,
          58,
          48,
          18,
          39,
          34,
          35,
          240,
          50,
          145,
          95,
          42,
          48,
          48,
          15,
          45,
          46,
          29,
          40,
          42,
          120,
          46,
          25,
          60,
          88,
          33,
          48,
          89,
          89,
          40,
          85,
          99,
          90,
          94,
          325,
          20.5,
          75,
          100,
          25,
          55,
          60,
          68,
          36,
          56,
          88,
          76,
          62,
          39,
          43,
          88,
          69,
          50,
          80,
          98,
          12,
          185,
          39,
          89,
          46,
          62,
          320,
          55,
          96,
          95,
          30,
          64,
          48,
          58,
          25,
          230,
          100,
          38,
          45,
          105,
          27,
          46,
          36,
          72,
          65,
          58,
          325,
          275,
          72,
          null,
          null,
          36,
          39,
          28,
          66,
          57,
          36,
          105,
          145,
          73,
          59,
          44.8,
          44,
          22,
          72,
          150,
          42,
          69,
          60,
          118,
          42,
          145,
          42,
          199,
          135,
          45,
          85,
          32,
          26,
          25,
          36
         ]
        },
        {
         "marker": {
          "color": "#EF553B"
         },
         "name": "Asian Skincare",
         "nbinsx": 100,
         "opacity": 0.6,
         "type": "histogram",
         "x": [
          28,
          34,
          32,
          31,
          30,
          37,
          25,
          12,
          10,
          99,
          18.5,
          58,
          19,
          135,
          22,
          19,
          68,
          45,
          54,
          36,
          89,
          38,
          99,
          45,
          null,
          70,
          265,
          38,
          110,
          140,
          24.3,
          0.99,
          15.2,
          16.61,
          4.5,
          15.3,
          16.1,
          15.4,
          19.2,
          19.6,
          18.2,
          17.5,
          19,
          20.5,
          22.5,
          5.32,
          10.71,
          16.5,
          18.96,
          15.3,
          17.5,
          29.18,
          15.19,
          16.8,
          6.5,
          18,
          19,
          15.4,
          16.1,
          21.89,
          15,
          18.4,
          12.6,
          22.49,
          11.9,
          20.5,
          20.8,
          12.6,
          17,
          13,
          21.51,
          17.5,
          24,
          9.8,
          15.83,
          14.4,
          24.47,
          3,
          16.2,
          12,
          20.8,
          15.75,
          15.3,
          2.25,
          23.9,
          13.69,
          16.2,
          14.62,
          4,
          10,
          5.6,
          15.8,
          26.4,
          22.3,
          10.17,
          20,
          3,
          17.1,
          10.5,
          3,
          22.4,
          16.5,
          14,
          21,
          14.7,
          9.8,
          3.46,
          12,
          15.4,
          17.5,
          19.6,
          15.3,
          4.37,
          13,
          8.1,
          12.16,
          14.13,
          17.1,
          17.5,
          20.7,
          10.5,
          3.01,
          9.8,
          19,
          18.2,
          17.82,
          39.22,
          21.6,
          26.25,
          12.6,
          9.8,
          3.14,
          19.2,
          19.2,
          16.1,
          30.6,
          19.2,
          38.88,
          24.3,
          0.99,
          15.2,
          15.3,
          10.71,
          29.18,
          18,
          13,
          24,
          9.8,
          16.2,
          13.69,
          22.3,
          14.7,
          8.1,
          17.1
         ]
        }
       ],
       "layout": {
        "autosize": true,
        "barmode": "overlay",
        "legend": {
         "title": {
          "text": "Category"
         }
        },
        "template": {
         "data": {
          "bar": [
           {
            "error_x": {
             "color": "#2a3f5f"
            },
            "error_y": {
             "color": "#2a3f5f"
            },
            "marker": {
             "line": {
              "color": "#E5ECF6",
              "width": 0.5
             },
             "pattern": {
              "fillmode": "overlay",
              "size": 10,
              "solidity": 0.2
             }
            },
            "type": "bar"
           }
          ],
          "barpolar": [
           {
            "marker": {
             "line": {
              "color": "#E5ECF6",
              "width": 0.5
             },
             "pattern": {
              "fillmode": "overlay",
              "size": 10,
              "solidity": 0.2
             }
            },
            "type": "barpolar"
           }
          ],
          "carpet": [
           {
            "aaxis": {
             "endlinecolor": "#2a3f5f",
             "gridcolor": "white",
             "linecolor": "white",
             "minorgridcolor": "white",
             "startlinecolor": "#2a3f5f"
            },
            "baxis": {
             "endlinecolor": "#2a3f5f",
             "gridcolor": "white",
             "linecolor": "white",
             "minorgridcolor": "white",
             "startlinecolor": "#2a3f5f"
            },
            "type": "carpet"
           }
          ],
          "choropleth": [
           {
            "colorbar": {
             "outlinewidth": 0,
             "ticks": ""
            },
            "type": "choropleth"
           }
          ],
          "contour": [
           {
            "colorbar": {
             "outlinewidth": 0,
             "ticks": ""
            },
            "colorscale": [
             [
              0,
              "#0d0887"
             ],
             [
              0.1111111111111111,
              "#46039f"
             ],
             [
              0.2222222222222222,
              "#7201a8"
             ],
             [
              0.3333333333333333,
              "#9c179e"
             ],
             [
              0.4444444444444444,
              "#bd3786"
             ],
             [
              0.5555555555555556,
              "#d8576b"
             ],
             [
              0.6666666666666666,
              "#ed7953"
             ],
             [
              0.7777777777777778,
              "#fb9f3a"
             ],
             [
              0.8888888888888888,
              "#fdca26"
             ],
             [
              1,
              "#f0f921"
             ]
            ],
            "type": "contour"
           }
          ],
          "contourcarpet": [
           {
            "colorbar": {
             "outlinewidth": 0,
             "ticks": ""
            },
            "type": "contourcarpet"
           }
          ],
          "heatmap": [
           {
            "colorbar": {
             "outlinewidth": 0,
             "ticks": ""
            },
            "colorscale": [
             [
              0,
              "#0d0887"
             ],
             [
              0.1111111111111111,
              "#46039f"
             ],
             [
              0.2222222222222222,
              "#7201a8"
             ],
             [
              0.3333333333333333,
              "#9c179e"
             ],
             [
              0.4444444444444444,
              "#bd3786"
             ],
             [
              0.5555555555555556,
              "#d8576b"
             ],
             [
              0.6666666666666666,
              "#ed7953"
             ],
             [
              0.7777777777777778,
              "#fb9f3a"
             ],
             [
              0.8888888888888888,
              "#fdca26"
             ],
             [
              1,
              "#f0f921"
             ]
            ],
            "type": "heatmap"
           }
          ],
          "heatmapgl": [
           {
            "colorbar": {
             "outlinewidth": 0,
             "ticks": ""
            },
            "colorscale": [
             [
              0,
              "#0d0887"
             ],
             [
              0.1111111111111111,
              "#46039f"
             ],
             [
              0.2222222222222222,
              "#7201a8"
             ],
             [
              0.3333333333333333,
              "#9c179e"
             ],
             [
              0.4444444444444444,
              "#bd3786"
             ],
             [
              0.5555555555555556,
              "#d8576b"
             ],
             [
              0.6666666666666666,
              "#ed7953"
             ],
             [
              0.7777777777777778,
              "#fb9f3a"
             ],
             [
              0.8888888888888888,
              "#fdca26"
             ],
             [
              1,
              "#f0f921"
             ]
            ],
            "type": "heatmapgl"
           }
          ],
          "histogram": [
           {
            "marker": {
             "pattern": {
              "fillmode": "overlay",
              "size": 10,
              "solidity": 0.2
             }
            },
            "type": "histogram"
           }
          ],
          "histogram2d": [
           {
            "colorbar": {
             "outlinewidth": 0,
             "ticks": ""
            },
            "colorscale": [
             [
              0,
              "#0d0887"
             ],
             [
              0.1111111111111111,
              "#46039f"
             ],
             [
              0.2222222222222222,
              "#7201a8"
             ],
             [
              0.3333333333333333,
              "#9c179e"
             ],
             [
              0.4444444444444444,
              "#bd3786"
             ],
             [
              0.5555555555555556,
              "#d8576b"
             ],
             [
              0.6666666666666666,
              "#ed7953"
             ],
             [
              0.7777777777777778,
              "#fb9f3a"
             ],
             [
              0.8888888888888888,
              "#fdca26"
             ],
             [
              1,
              "#f0f921"
             ]
            ],
            "type": "histogram2d"
           }
          ],
          "histogram2dcontour": [
           {
            "colorbar": {
             "outlinewidth": 0,
             "ticks": ""
            },
            "colorscale": [
             [
              0,
              "#0d0887"
             ],
             [
              0.1111111111111111,
              "#46039f"
             ],
             [
              0.2222222222222222,
              "#7201a8"
             ],
             [
              0.3333333333333333,
              "#9c179e"
             ],
             [
              0.4444444444444444,
              "#bd3786"
             ],
             [
              0.5555555555555556,
              "#d8576b"
             ],
             [
              0.6666666666666666,
              "#ed7953"
             ],
             [
              0.7777777777777778,
              "#fb9f3a"
             ],
             [
              0.8888888888888888,
              "#fdca26"
             ],
             [
              1,
              "#f0f921"
             ]
            ],
            "type": "histogram2dcontour"
           }
          ],
          "mesh3d": [
           {
            "colorbar": {
             "outlinewidth": 0,
             "ticks": ""
            },
            "type": "mesh3d"
           }
          ],
          "parcoords": [
           {
            "line": {
             "colorbar": {
              "outlinewidth": 0,
              "ticks": ""
             }
            },
            "type": "parcoords"
           }
          ],
          "pie": [
           {
            "automargin": true,
            "type": "pie"
           }
          ],
          "scatter": [
           {
            "fillpattern": {
             "fillmode": "overlay",
             "size": 10,
             "solidity": 0.2
            },
            "type": "scatter"
           }
          ],
          "scatter3d": [
           {
            "line": {
             "colorbar": {
              "outlinewidth": 0,
              "ticks": ""
             }
            },
            "marker": {
             "colorbar": {
              "outlinewidth": 0,
              "ticks": ""
             }
            },
            "type": "scatter3d"
           }
          ],
          "scattercarpet": [
           {
            "marker": {
             "colorbar": {
              "outlinewidth": 0,
              "ticks": ""
             }
            },
            "type": "scattercarpet"
           }
          ],
          "scattergeo": [
           {
            "marker": {
             "colorbar": {
              "outlinewidth": 0,
              "ticks": ""
             }
            },
            "type": "scattergeo"
           }
          ],
          "scattergl": [
           {
            "marker": {
             "colorbar": {
              "outlinewidth": 0,
              "ticks": ""
             }
            },
            "type": "scattergl"
           }
          ],
          "scattermapbox": [
           {
            "marker": {
             "colorbar": {
              "outlinewidth": 0,
              "ticks": ""
             }
            },
            "type": "scattermapbox"
           }
          ],
          "scatterpolar": [
           {
            "marker": {
             "colorbar": {
              "outlinewidth": 0,
              "ticks": ""
             }
            },
            "type": "scatterpolar"
           }
          ],
          "scatterpolargl": [
           {
            "marker": {
             "colorbar": {
              "outlinewidth": 0,
              "ticks": ""
             }
            },
            "type": "scatterpolargl"
           }
          ],
          "scatterternary": [
           {
            "marker": {
             "colorbar": {
              "outlinewidth": 0,
              "ticks": ""
             }
            },
            "type": "scatterternary"
           }
          ],
          "surface": [
           {
            "colorbar": {
             "outlinewidth": 0,
             "ticks": ""
            },
            "colorscale": [
             [
              0,
              "#0d0887"
             ],
             [
              0.1111111111111111,
              "#46039f"
             ],
             [
              0.2222222222222222,
              "#7201a8"
             ],
             [
              0.3333333333333333,
              "#9c179e"
             ],
             [
              0.4444444444444444,
              "#bd3786"
             ],
             [
              0.5555555555555556,
              "#d8576b"
             ],
             [
              0.6666666666666666,
              "#ed7953"
             ],
             [
              0.7777777777777778,
              "#fb9f3a"
             ],
             [
              0.8888888888888888,
              "#fdca26"
             ],
             [
              1,
              "#f0f921"
             ]
            ],
            "type": "surface"
           }
          ],
          "table": [
           {
            "cells": {
             "fill": {
              "color": "#EBF0F8"
             },
             "line": {
              "color": "white"
             }
            },
            "header": {
             "fill": {
              "color": "#C8D4E3"
             },
             "line": {
              "color": "white"
             }
            },
            "type": "table"
           }
          ]
         },
         "layout": {
          "annotationdefaults": {
           "arrowcolor": "#2a3f5f",
           "arrowhead": 0,
           "arrowwidth": 1
          },
          "autotypenumbers": "strict",
          "coloraxis": {
           "colorbar": {
            "outlinewidth": 0,
            "ticks": ""
           }
          },
          "colorscale": {
           "diverging": [
            [
             0,
             "#8e0152"
            ],
            [
             0.1,
             "#c51b7d"
            ],
            [
             0.2,
             "#de77ae"
            ],
            [
             0.3,
             "#f1b6da"
            ],
            [
             0.4,
             "#fde0ef"
            ],
            [
             0.5,
             "#f7f7f7"
            ],
            [
             0.6,
             "#e6f5d0"
            ],
            [
             0.7,
             "#b8e186"
            ],
            [
             0.8,
             "#7fbc41"
            ],
            [
             0.9,
             "#4d9221"
            ],
            [
             1,
             "#276419"
            ]
           ],
           "sequential": [
            [
             0,
             "#0d0887"
            ],
            [
             0.1111111111111111,
             "#46039f"
            ],
            [
             0.2222222222222222,
             "#7201a8"
            ],
            [
             0.3333333333333333,
             "#9c179e"
            ],
            [
             0.4444444444444444,
             "#bd3786"
            ],
            [
             0.5555555555555556,
             "#d8576b"
            ],
            [
             0.6666666666666666,
             "#ed7953"
            ],
            [
             0.7777777777777778,
             "#fb9f3a"
            ],
            [
             0.8888888888888888,
             "#fdca26"
            ],
            [
             1,
             "#f0f921"
            ]
           ],
           "sequentialminus": [
            [
             0,
             "#0d0887"
            ],
            [
             0.1111111111111111,
             "#46039f"
            ],
            [
             0.2222222222222222,
             "#7201a8"
            ],
            [
             0.3333333333333333,
             "#9c179e"
            ],
            [
             0.4444444444444444,
             "#bd3786"
            ],
            [
             0.5555555555555556,
             "#d8576b"
            ],
            [
             0.6666666666666666,
             "#ed7953"
            ],
            [
             0.7777777777777778,
             "#fb9f3a"
            ],
            [
             0.8888888888888888,
             "#fdca26"
            ],
            [
             1,
             "#f0f921"
            ]
           ]
          },
          "colorway": [
           "#636efa",
           "#EF553B",
           "#00cc96",
           "#ab63fa",
           "#FFA15A",
           "#19d3f3",
           "#FF6692",
           "#B6E880",
           "#FF97FF",
           "#FECB52"
          ],
          "font": {
           "color": "#2a3f5f"
          },
          "geo": {
           "bgcolor": "white",
           "lakecolor": "white",
           "landcolor": "#E5ECF6",
           "showlakes": true,
           "showland": true,
           "subunitcolor": "white"
          },
          "hoverlabel": {
           "align": "left"
          },
          "hovermode": "closest",
          "mapbox": {
           "style": "light"
          },
          "paper_bgcolor": "white",
          "plot_bgcolor": "#E5ECF6",
          "polar": {
           "angularaxis": {
            "gridcolor": "white",
            "linecolor": "white",
            "ticks": ""
           },
           "bgcolor": "#E5ECF6",
           "radialaxis": {
            "gridcolor": "white",
            "linecolor": "white",
            "ticks": ""
           }
          },
          "scene": {
           "xaxis": {
            "backgroundcolor": "#E5ECF6",
            "gridcolor": "white",
            "gridwidth": 2,
            "linecolor": "white",
            "showbackground": true,
            "ticks": "",
            "zerolinecolor": "white"
           },
           "yaxis": {
            "backgroundcolor": "#E5ECF6",
            "gridcolor": "white",
            "gridwidth": 2,
            "linecolor": "white",
            "showbackground": true,
            "ticks": "",
            "zerolinecolor": "white"
           },
           "zaxis": {
            "backgroundcolor": "#E5ECF6",
            "gridcolor": "white",
            "gridwidth": 2,
            "linecolor": "white",
            "showbackground": true,
            "ticks": "",
            "zerolinecolor": "white"
           }
          },
          "shapedefaults": {
           "line": {
            "color": "#2a3f5f"
           }
          },
          "ternary": {
           "aaxis": {
            "gridcolor": "white",
            "linecolor": "white",
            "ticks": ""
           },
           "baxis": {
            "gridcolor": "white",
            "linecolor": "white",
            "ticks": ""
           },
           "bgcolor": "#E5ECF6",
           "caxis": {
            "gridcolor": "white",
            "linecolor": "white",
            "ticks": ""
           }
          },
          "title": {
           "x": 0.05
          },
          "xaxis": {
           "automargin": true,
           "gridcolor": "white",
           "linecolor": "white",
           "ticks": "",
           "title": {
            "standoff": 15
           },
           "zerolinecolor": "white",
           "zerolinewidth": 2
          },
          "yaxis": {
           "automargin": true,
           "gridcolor": "white",
           "linecolor": "white",
           "ticks": "",
           "title": {
            "standoff": 15
           },
           "zerolinecolor": "white",
           "zerolinewidth": 2
          }
         }
        },
        "title": {
         "text": "Price Distribution of Skincare Products"
        },
        "xaxis": {
         "autorange": true,
         "range": [
          -2.5,
          327.5
         ],
         "title": {
          "text": "Price ($)"
         },
         "type": "linear"
        },
        "yaxis": {
         "autorange": true,
         "range": [
          0,
          45.26315789473684
         ],
         "title": {
          "text": "Count"
         }
        }
       }
      },
      "image/png": "[encoded data removed]",
      "text/html": [
       "<div>                            <div id=\"52328293-42e4-4510-9e84-aa6f0ac0f5cc\" class=\"plotly-graph-div\" style=\"height:525px; width:100%;\"></div>            <script type=\"text/javascript\">                require([\"plotly\"], function(Plotly) {                    window.PLOTLYENV=window.PLOTLYENV || {};                                    if (document.getElementById(\"52328293-42e4-4510-9e84-aa6f0ac0f5cc\")) {                    Plotly.newPlot(                        \"52328293-42e4-4510-9e84-aa6f0ac0f5cc\",                        [{\"marker\":{\"color\":\"#636EFA\"},\"name\":\"Western Skincare\",\"nbinsx\":100,\"opacity\":0.6,\"x\":[13.0,82.0,10.0,12.2,14.0,28.0,68.0,25.0,55.0,14.0,65.0,14.0,28.0,55.0,65.0,18.0,16.0,65.0,38.0,37.0,122.0,79.0,48.0,50.0,52.0,45.0,35.0,12.1,39.0,83.0,34.0,48.0,58.0,68.0,59.0,68.0,68.0,47.2,69.0,69.0,8.1,69.0,82.0,15.0,35.0,35.0,45.0,18.0,42.0,39.0,30.0,40.0,79.0,74.0,60.0,36.0,120.0,42.0,34.0,62.0,119.0,69.0,79.0,38.0,68.0,65.0,95.0,90.0,39.0,34.0,46.0,32.0,28.0,56.0,32.0,58.0,48.0,18.0,39.0,34.0,35.0,240.0,50.0,145.0,95.0,42.0,48.0,48.0,15.0,45.0,46.0,29.0,40.0,42.0,120.0,46.0,25.0,60.0,88.0,33.0,48.0,89.0,89.0,40.0,85.0,99.0,90.0,94.0,325.0,20.5,75.0,100.0,25.0,55.0,60.0,68.0,36.0,56.0,88.0,76.0,62.0,39.0,43.0,88.0,69.0,50.0,80.0,98.0,12.0,185.0,39.0,89.0,46.0,62.0,320.0,55.0,96.0,95.0,30.0,64.0,48.0,58.0,25.0,230.0,100.0,38.0,45.0,105.0,27.0,46.0,36.0,72.0,65.0,58.0,325.0,275.0,72.0,null,null,36.0,39.0,28.0,66.0,57.0,36.0,105.0,145.0,73.0,59.0,44.8,44.0,22.0,72.0,150.0,42.0,69.0,60.0,118.0,42.0,145.0,42.0,199.0,135.0,45.0,85.0,32.0,26.0,25.0,36.0],\"type\":\"histogram\"},{\"marker\":{\"color\":\"#EF553B\"},\"name\":\"Asian Skincare\",\"nbinsx\":100,\"opacity\":0.6,\"x\":[28.0,34.0,32.0,31.0,30.0,37.0,25.0,12.0,10.0,99.0,18.5,58.0,19.0,135.0,22.0,19.0,68.0,45.0,54.0,36.0,89.0,38.0,99.0,45.0,null,70.0,265.0,38.0,110.0,140.0,24.3,0.99,15.2,16.61,4.5,15.3,16.1,15.4,19.2,19.6,18.2,17.5,19.0,20.5,22.5,5.32,10.71,16.5,18.96,15.3,17.5,29.18,15.19,16.8,6.5,18.0,19.0,15.4,16.1,21.89,15.0,18.4,12.6,22.49,11.9,20.5,20.8,12.6,17.0,13.0,21.51,17.5,24.0,9.8,15.83,14.4,24.47,3.0,16.2,12.0,20.8,15.75,15.3,2.25,23.9,13.69,16.2,14.62,4.0,10.0,5.6,15.8,26.4,22.3,10.17,20.0,3.0,17.1,10.5,3.0,22.4,16.5,14.0,21.0,14.7,9.8,3.46,12.0,15.4,17.5,19.6,15.3,4.37,13.0,8.1,12.16,14.13,17.1,17.5,20.7,10.5,3.01,9.8,19.0,18.2,17.82,39.22,21.6,26.25,12.6,9.8,3.14,19.2,19.2,16.1,30.6,19.2,38.88,24.3,0.99,15.2,15.3,10.71,29.18,18.0,13.0,24.0,9.8,16.2,13.69,22.3,14.7,8.1,17.1],\"type\":\"histogram\"}],                        {\"template\":{\"data\":{\"histogram2dcontour\":[{\"type\":\"histogram2dcontour\",\"colorbar\":{\"outlinewidth\":0,\"ticks\":\"\"},\"colorscale\":[[0.0,\"#0d0887\"],[0.1111111111111111,\"#46039f\"],[0.2222222222222222,\"#7201a8\"],[0.3333333333333333,\"#9c179e\"],[0.4444444444444444,\"#bd3786\"],[0.5555555555555556,\"#d8576b\"],[0.6666666666666666,\"#ed7953\"],[0.7777777777777778,\"#fb9f3a\"],[0.8888888888888888,\"#fdca26\"],[1.0,\"#f0f921\"]]}],\"choropleth\":[{\"type\":\"choropleth\",\"colorbar\":{\"outlinewidth\":0,\"ticks\":\"\"}}],\"histogram2d\":[{\"type\":\"histogram2d\",\"colorbar\":{\"outlinewidth\":0,\"ticks\":\"\"},\"colorscale\":[[0.0,\"#0d0887\"],[0.1111111111111111,\"#46039f\"],[0.2222222222222222,\"#7201a8\"],[0.3333333333333333,\"#9c179e\"],[0.4444444444444444,\"#bd3786\"],[0.5555555555555556,\"#d8576b\"],[0.6666666666666666,\"#ed7953\"],[0.7777777777777778,\"#fb9f3a\"],[0.8888888888888888,\"#fdca26\"],[1.0,\"#f0f921\"]]}],\"heatmap\":[{\"type\":\"heatmap\",\"colorbar\":{\"outlinewidth\":0,\"ticks\":\"\"},\"colorscale\":[[0.0,\"#0d0887\"],[0.1111111111111111,\"#46039f\"],[0.2222222222222222,\"#7201a8\"],[0.3333333333333333,\"#9c179e\"],[0.4444444444444444,\"#bd3786\"],[0.5555555555555556,\"#d8576b\"],[0.6666666666666666,\"#ed7953\"],[0.7777777777777778,\"#fb9f3a\"],[0.8888888888888888,\"#fdca26\"],[1.0,\"#f0f921\"]]}],\"heatmapgl\":[{\"type\":\"heatmapgl\",\"colorbar\":{\"outlinewidth\":0,\"ticks\":\"\"},\"colorscale\":[[0.0,\"#0d0887\"],[0.1111111111111111,\"#46039f\"],[0.2222222222222222,\"#7201a8\"],[0.3333333333333333,\"#9c179e\"],[0.4444444444444444,\"#bd3786\"],[0.5555555555555556,\"#d8576b\"],[0.6666666666666666,\"#ed7953\"],[0.7777777777777778,\"#fb9f3a\"],[0.8888888888888888,\"#fdca26\"],[1.0,\"#f0f921\"]]}],\"contourcarpet\":[{\"type\":\"contourcarpet\",\"colorbar\":{\"outlinewidth\":0,\"ticks\":\"\"}}],\"contour\":[{\"type\":\"contour\",\"colorbar\":{\"outlinewidth\":0,\"ticks\":\"\"},\"colorscale\":[[0.0,\"#0d0887\"],[0.1111111111111111,\"#46039f\"],[0.2222222222222222,\"#7201a8\"],[0.3333333333333333,\"#9c179e\"],[0.4444444444444444,\"#bd3786\"],[0.5555555555555556,\"#d8576b\"],[0.6666666666666666,\"#ed7953\"],[0.7777777777777778,\"#fb9f3a\"],[0.8888888888888888,\"#fdca26\"],[1.0,\"#f0f921\"]]}],\"surface\":[{\"type\":\"surface\",\"colorbar\":{\"outlinewidth\":0,\"ticks\":\"\"},\"colorscale\":[[0.0,\"#0d0887\"],[0.1111111111111111,\"#46039f\"],[0.2222222222222222,\"#7201a8\"],[0.3333333333333333,\"#9c179e\"],[0.4444444444444444,\"#bd3786\"],[0.5555555555555556,\"#d8576b\"],[0.6666666666666666,\"#ed7953\"],[0.7777777777777778,\"#fb9f3a\"],[0.8888888888888888,\"#fdca26\"],[1.0,\"#f0f921\"]]}],\"mesh3d\":[{\"type\":\"mesh3d\",\"colorbar\":{\"outlinewidth\":0,\"ticks\":\"\"}}],\"scatter\":[{\"fillpattern\":{\"fillmode\":\"overlay\",\"size\":10,\"solidity\":0.2},\"type\":\"scatter\"}],\"parcoords\":[{\"type\":\"parcoords\",\"line\":{\"colorbar\":{\"outlinewidth\":0,\"ticks\":\"\"}}}],\"scatterpolargl\":[{\"type\":\"scatterpolargl\",\"marker\":{\"colorbar\":{\"outlinewidth\":0,\"ticks\":\"\"}}}],\"bar\":[{\"error_x\":{\"color\":\"#2a3f5f\"},\"error_y\":{\"color\":\"#2a3f5f\"},\"marker\":{\"line\":{\"color\":\"#E5ECF6\",\"width\":0.5},\"pattern\":{\"fillmode\":\"overlay\",\"size\":10,\"solidity\":0.2}},\"type\":\"bar\"}],\"scattergeo\":[{\"type\":\"scattergeo\",\"marker\":{\"colorbar\":{\"outlinewidth\":0,\"ticks\":\"\"}}}],\"scatterpolar\":[{\"type\":\"scatterpolar\",\"marker\":{\"colorbar\":{\"outlinewidth\":0,\"ticks\":\"\"}}}],\"histogram\":[{\"marker\":{\"pattern\":{\"fillmode\":\"overlay\",\"size\":10,\"solidity\":0.2}},\"type\":\"histogram\"}],\"scattergl\":[{\"type\":\"scattergl\",\"marker\":{\"colorbar\":{\"outlinewidth\":0,\"ticks\":\"\"}}}],\"scatter3d\":[{\"type\":\"scatter3d\",\"line\":{\"colorbar\":{\"outlinewidth\":0,\"ticks\":\"\"}},\"marker\":{\"colorbar\":{\"outlinewidth\":0,\"ticks\":\"\"}}}],\"scattermapbox\":[{\"type\":\"scattermapbox\",\"marker\":{\"colorbar\":{\"outlinewidth\":0,\"ticks\":\"\"}}}],\"scatterternary\":[{\"type\":\"scatterternary\",\"marker\":{\"colorbar\":{\"outlinewidth\":0,\"ticks\":\"\"}}}],\"scattercarpet\":[{\"type\":\"scattercarpet\",\"marker\":{\"colorbar\":{\"outlinewidth\":0,\"ticks\":\"\"}}}],\"carpet\":[{\"aaxis\":{\"endlinecolor\":\"#2a3f5f\",\"gridcolor\":\"white\",\"linecolor\":\"white\",\"minorgridcolor\":\"white\",\"startlinecolor\":\"#2a3f5f\"},\"baxis\":{\"endlinecolor\":\"#2a3f5f\",\"gridcolor\":\"white\",\"linecolor\":\"white\",\"minorgridcolor\":\"white\",\"startlinecolor\":\"#2a3f5f\"},\"type\":\"carpet\"}],\"table\":[{\"cells\":{\"fill\":{\"color\":\"#EBF0F8\"},\"line\":{\"color\":\"white\"}},\"header\":{\"fill\":{\"color\":\"#C8D4E3\"},\"line\":{\"color\":\"white\"}},\"type\":\"table\"}],\"barpolar\":[{\"marker\":{\"line\":{\"color\":\"#E5ECF6\",\"width\":0.5},\"pattern\":{\"fillmode\":\"overlay\",\"size\":10,\"solidity\":0.2}},\"type\":\"barpolar\"}],\"pie\":[{\"automargin\":true,\"type\":\"pie\"}]},\"layout\":{\"autotypenumbers\":\"strict\",\"colorway\":[\"#636efa\",\"#EF553B\",\"#00cc96\",\"#ab63fa\",\"#FFA15A\",\"#19d3f3\",\"#FF6692\",\"#B6E880\",\"#FF97FF\",\"#FECB52\"],\"font\":{\"color\":\"#2a3f5f\"},\"hovermode\":\"closest\",\"hoverlabel\":{\"align\":\"left\"},\"paper_bgcolor\":\"white\",\"plot_bgcolor\":\"#E5ECF6\",\"polar\":{\"bgcolor\":\"#E5ECF6\",\"angularaxis\":{\"gridcolor\":\"white\",\"linecolor\":\"white\",\"ticks\":\"\"},\"radialaxis\":{\"gridcolor\":\"white\",\"linecolor\":\"white\",\"ticks\":\"\"}},\"ternary\":{\"bgcolor\":\"#E5ECF6\",\"aaxis\":{\"gridcolor\":\"white\",\"linecolor\":\"white\",\"ticks\":\"\"},\"baxis\":{\"gridcolor\":\"white\",\"linecolor\":\"white\",\"ticks\":\"\"},\"caxis\":{\"gridcolor\":\"white\",\"linecolor\":\"white\",\"ticks\":\"\"}},\"coloraxis\":{\"colorbar\":{\"outlinewidth\":0,\"ticks\":\"\"}},\"colorscale\":{\"sequential\":[[0.0,\"#0d0887\"],[0.1111111111111111,\"#46039f\"],[0.2222222222222222,\"#7201a8\"],[0.3333333333333333,\"#9c179e\"],[0.4444444444444444,\"#bd3786\"],[0.5555555555555556,\"#d8576b\"],[0.6666666666666666,\"#ed7953\"],[0.7777777777777778,\"#fb9f3a\"],[0.8888888888888888,\"#fdca26\"],[1.0,\"#f0f921\"]],\"sequentialminus\":[[0.0,\"#0d0887\"],[0.1111111111111111,\"#46039f\"],[0.2222222222222222,\"#7201a8\"],[0.3333333333333333,\"#9c179e\"],[0.4444444444444444,\"#bd3786\"],[0.5555555555555556,\"#d8576b\"],[0.6666666666666666,\"#ed7953\"],[0.7777777777777778,\"#fb9f3a\"],[0.8888888888888888,\"#fdca26\"],[1.0,\"#f0f921\"]],\"diverging\":[[0,\"#8e0152\"],[0.1,\"#c51b7d\"],[0.2,\"#de77ae\"],[0.3,\"#f1b6da\"],[0.4,\"#fde0ef\"],[0.5,\"#f7f7f7\"],[0.6,\"#e6f5d0\"],[0.7,\"#b8e186\"],[0.8,\"#7fbc41\"],[0.9,\"#4d9221\"],[1,\"#276419\"]]},\"xaxis\":{\"gridcolor\":\"white\",\"linecolor\":\"white\",\"ticks\":\"\",\"title\":{\"standoff\":15},\"zerolinecolor\":\"white\",\"automargin\":true,\"zerolinewidth\":2},\"yaxis\":{\"gridcolor\":\"white\",\"linecolor\":\"white\",\"ticks\":\"\",\"title\":{\"standoff\":15},\"zerolinecolor\":\"white\",\"automargin\":true,\"zerolinewidth\":2},\"scene\":{\"xaxis\":{\"backgroundcolor\":\"#E5ECF6\",\"gridcolor\":\"white\",\"linecolor\":\"white\",\"showbackground\":true,\"ticks\":\"\",\"zerolinecolor\":\"white\",\"gridwidth\":2},\"yaxis\":{\"backgroundcolor\":\"#E5ECF6\",\"gridcolor\":\"white\",\"linecolor\":\"white\",\"showbackground\":true,\"ticks\":\"\",\"zerolinecolor\":\"white\",\"gridwidth\":2},\"zaxis\":{\"backgroundcolor\":\"#E5ECF6\",\"gridcolor\":\"white\",\"linecolor\":\"white\",\"showbackground\":true,\"ticks\":\"\",\"zerolinecolor\":\"white\",\"gridwidth\":2}},\"shapedefaults\":{\"line\":{\"color\":\"#2a3f5f\"}},\"annotationdefaults\":{\"arrowcolor\":\"#2a3f5f\",\"arrowhead\":0,\"arrowwidth\":1},\"geo\":{\"bgcolor\":\"white\",\"landcolor\":\"#E5ECF6\",\"subunitcolor\":\"white\",\"showland\":true,\"showlakes\":true,\"lakecolor\":\"white\"},\"title\":{\"x\":0.05},\"mapbox\":{\"style\":\"light\"}}},\"title\":{\"text\":\"Price Distribution of Skincare Products\"},\"xaxis\":{\"title\":{\"text\":\"Price ($)\"}},\"yaxis\":{\"title\":{\"text\":\"Count\"}},\"barmode\":\"overlay\",\"legend\":{\"title\":{\"text\":\"Category\"}}},                        {\"responsive\": true}                    ).then(function(){\n",
       "                            \n",
       "var gd = document.getElementById('52328293-42e4-4510-9e84-aa6f0ac0f5cc');\n",
       "var x = new MutationObserver(function (mutations, observer) {{\n",
       "        var display = window.getComputedStyle(gd).display;\n",
       "        if (!display || display === 'none') {{\n",
       "            console.log([gd, 'removed!']);\n",
       "            Plotly.purge(gd);\n",
       "            observer.disconnect();\n",
       "        }}\n",
       "}});\n",
       "\n",
       "// Listen for the removal of the full notebook cells\n",
       "var notebookContainer = gd.closest('#notebook-container');\n",
       "if (notebookContainer) {{\n",
       "    x.observe(notebookContainer, {childList: true});\n",
       "}}\n",
       "\n",
       "// Listen for the clearing of the current output cell\n",
       "var outputEl = gd.closest('.output');\n",
       "if (outputEl) {{\n",
       "    x.observe(outputEl, {childList: true});\n",
       "}}\n",
       "\n",
       "                        })                };                });            </script>        </div>"
      ]
     },
     "metadata": {},
     "output_type": "display_data"
    }
   ],
   "source": [
    "fig = go.Figure()\n",
    "\n",
    "fig.add_trace(go.Histogram(\n",
    "    x=western_skincare[\"price_usd\"],\n",
    "    nbinsx=100,\n",
    "    name=\"Western Skincare\",\n",
    "    marker_color=\"#636EFA\",\n",
    "    opacity=0.6\n",
    "))\n",
    "\n",
    "fig.add_trace(go.Histogram(\n",
    "    x=asian_skincare[\"price_usd\"],\n",
    "    nbinsx=100,\n",
    "    name=\"Asian Skincare\",\n",
    "    marker_color=\"#EF553B\",\n",
    "    opacity=0.6\n",
    "))\n",
    "\n",
    "fig.update_layout(\n",
    "    title=\"Price Distribution of Skincare Products\",\n",
    "    xaxis_title=\"Price ($)\",\n",
    "    yaxis_title=\"Count\",\n",
    "    barmode=\"overlay\", \n",
    "    legend_title=\"Category\"\n",
    ")\n",
    "\n",
    "fig.show()\n"
   ]
  },
  {
   "cell_type": "markdown",
   "metadata": {},
   "source": [
    "### Word Frequency in Marketing Language\n",
    "To understand how brands market their products, we analyzed the most frequently used words in product descriptions. This allows us to identify differences in marketing language between Western and Asian skincare brands. For example, do Western brands focus on \"science-backed\" claims, while Asian brands highlight \"hydration and radiance\"? To do this, we tokenized the product descriptions, counted word occurrences, and visualized the results using bar charts."
   ]
  },
  {
   "cell_type": "code",
   "execution_count": 56,
   "metadata": {
    "tags": []
   },
   "outputs": [
    {
     "data": {
      "application/vnd.plotly.v1+json": {
       "config": {
        "plotlyServerURL": "https://plot.ly"
       },
       "data": [
        {
         "alignmentgroup": "True",
         "hovertemplate": "Category=Western Skincare<br>Word=%{x}<br>Frequency=%{y}<extra></extra>",
         "legendgroup": "Western Skincare",
         "marker": {
          "color": "#636EFA",
          "pattern": {
           "shape": ""
          }
         },
         "name": "Western Skincare",
         "offsetgroup": "Western Skincare",
         "orientation": "v",
         "showlegend": true,
         "textposition": "auto",
         "type": "bar",
         "x": [
          "skin",
          "dark",
          "free",
          "visibly",
          "spots",
          "ingredients",
          "look",
          "serum",
          "clinical",
          "vitamin",
          "texture",
          "c",
          "results",
          "wrinkles",
          "know",
          "tone",
          "lines",
          "skincare",
          "need",
          "acid"
         ],
         "xaxis": "x",
         "y": [
          1295,
          395,
          388,
          376,
          352,
          348,
          254,
          251,
          246,
          218,
          215,
          212,
          206,
          197,
          190,
          189,
          189,
          188,
          187,
          185
         ],
         "yaxis": "y"
        },
        {
         "alignmentgroup": "True",
         "hovertemplate": "Category=Asian Skincare<br>Word=%{x}<br>Frequency=%{y}<extra></extra>",
         "legendgroup": "Asian Skincare",
         "marker": {
          "color": "#EF553B",
          "pattern": {
           "shape": ""
          }
         },
         "name": "Asian Skincare",
         "offsetgroup": "Asian Skincare",
         "orientation": "v",
         "showlegend": true,
         "textposition": "auto",
         "type": "bar",
         "x": [
          "skin",
          "extract",
          "ingredients",
          "dark",
          "formula",
          "serum",
          "free",
          "vitamin",
          "acid",
          "spots",
          "moisture",
          "contains",
          "niacinamide",
          "brightening",
          "cream",
          "c",
          "oil",
          "mask",
          "hyaluronic",
          "formulated"
         ],
         "xaxis": "x",
         "y": [
          503,
          98,
          84,
          68,
          67,
          65,
          62,
          61,
          60,
          56,
          50,
          49,
          48,
          47,
          47,
          46,
          46,
          46,
          44,
          43
         ],
         "yaxis": "y"
        }
       ],
       "layout": {
        "autosize": false,
        "barmode": "group",
        "height": 500,
        "legend": {
         "title": {
          "text": "Category"
         },
         "tracegroupgap": 0
        },
        "template": {
         "data": {
          "bar": [
           {
            "error_x": {
             "color": "#2a3f5f"
            },
            "error_y": {
             "color": "#2a3f5f"
            },
            "marker": {
             "line": {
              "color": "#E5ECF6",
              "width": 0.5
             },
             "pattern": {
              "fillmode": "overlay",
              "size": 10,
              "solidity": 0.2
             }
            },
            "type": "bar"
           }
          ],
          "barpolar": [
           {
            "marker": {
             "line": {
              "color": "#E5ECF6",
              "width": 0.5
             },
             "pattern": {
              "fillmode": "overlay",
              "size": 10,
              "solidity": 0.2
             }
            },
            "type": "barpolar"
           }
          ],
          "carpet": [
           {
            "aaxis": {
             "endlinecolor": "#2a3f5f",
             "gridcolor": "white",
             "linecolor": "white",
             "minorgridcolor": "white",
             "startlinecolor": "#2a3f5f"
            },
            "baxis": {
             "endlinecolor": "#2a3f5f",
             "gridcolor": "white",
             "linecolor": "white",
             "minorgridcolor": "white",
             "startlinecolor": "#2a3f5f"
            },
            "type": "carpet"
           }
          ],
          "choropleth": [
           {
            "colorbar": {
             "outlinewidth": 0,
             "ticks": ""
            },
            "type": "choropleth"
           }
          ],
          "contour": [
           {
            "colorbar": {
             "outlinewidth": 0,
             "ticks": ""
            },
            "colorscale": [
             [
              0,
              "#0d0887"
             ],
             [
              0.1111111111111111,
              "#46039f"
             ],
             [
              0.2222222222222222,
              "#7201a8"
             ],
             [
              0.3333333333333333,
              "#9c179e"
             ],
             [
              0.4444444444444444,
              "#bd3786"
             ],
             [
              0.5555555555555556,
              "#d8576b"
             ],
             [
              0.6666666666666666,
              "#ed7953"
             ],
             [
              0.7777777777777778,
              "#fb9f3a"
             ],
             [
              0.8888888888888888,
              "#fdca26"
             ],
             [
              1,
              "#f0f921"
             ]
            ],
            "type": "contour"
           }
          ],
          "contourcarpet": [
           {
            "colorbar": {
             "outlinewidth": 0,
             "ticks": ""
            },
            "type": "contourcarpet"
           }
          ],
          "heatmap": [
           {
            "colorbar": {
             "outlinewidth": 0,
             "ticks": ""
            },
            "colorscale": [
             [
              0,
              "#0d0887"
             ],
             [
              0.1111111111111111,
              "#46039f"
             ],
             [
              0.2222222222222222,
              "#7201a8"
             ],
             [
              0.3333333333333333,
              "#9c179e"
             ],
             [
              0.4444444444444444,
              "#bd3786"
             ],
             [
              0.5555555555555556,
              "#d8576b"
             ],
             [
              0.6666666666666666,
              "#ed7953"
             ],
             [
              0.7777777777777778,
              "#fb9f3a"
             ],
             [
              0.8888888888888888,
              "#fdca26"
             ],
             [
              1,
              "#f0f921"
             ]
            ],
            "type": "heatmap"
           }
          ],
          "heatmapgl": [
           {
            "colorbar": {
             "outlinewidth": 0,
             "ticks": ""
            },
            "colorscale": [
             [
              0,
              "#0d0887"
             ],
             [
              0.1111111111111111,
              "#46039f"
             ],
             [
              0.2222222222222222,
              "#7201a8"
             ],
             [
              0.3333333333333333,
              "#9c179e"
             ],
             [
              0.4444444444444444,
              "#bd3786"
             ],
             [
              0.5555555555555556,
              "#d8576b"
             ],
             [
              0.6666666666666666,
              "#ed7953"
             ],
             [
              0.7777777777777778,
              "#fb9f3a"
             ],
             [
              0.8888888888888888,
              "#fdca26"
             ],
             [
              1,
              "#f0f921"
             ]
            ],
            "type": "heatmapgl"
           }
          ],
          "histogram": [
           {
            "marker": {
             "pattern": {
              "fillmode": "overlay",
              "size": 10,
              "solidity": 0.2
             }
            },
            "type": "histogram"
           }
          ],
          "histogram2d": [
           {
            "colorbar": {
             "outlinewidth": 0,
             "ticks": ""
            },
            "colorscale": [
             [
              0,
              "#0d0887"
             ],
             [
              0.1111111111111111,
              "#46039f"
             ],
             [
              0.2222222222222222,
              "#7201a8"
             ],
             [
              0.3333333333333333,
              "#9c179e"
             ],
             [
              0.4444444444444444,
              "#bd3786"
             ],
             [
              0.5555555555555556,
              "#d8576b"
             ],
             [
              0.6666666666666666,
              "#ed7953"
             ],
             [
              0.7777777777777778,
              "#fb9f3a"
             ],
             [
              0.8888888888888888,
              "#fdca26"
             ],
             [
              1,
              "#f0f921"
             ]
            ],
            "type": "histogram2d"
           }
          ],
          "histogram2dcontour": [
           {
            "colorbar": {
             "outlinewidth": 0,
             "ticks": ""
            },
            "colorscale": [
             [
              0,
              "#0d0887"
             ],
             [
              0.1111111111111111,
              "#46039f"
             ],
             [
              0.2222222222222222,
              "#7201a8"
             ],
             [
              0.3333333333333333,
              "#9c179e"
             ],
             [
              0.4444444444444444,
              "#bd3786"
             ],
             [
              0.5555555555555556,
              "#d8576b"
             ],
             [
              0.6666666666666666,
              "#ed7953"
             ],
             [
              0.7777777777777778,
              "#fb9f3a"
             ],
             [
              0.8888888888888888,
              "#fdca26"
             ],
             [
              1,
              "#f0f921"
             ]
            ],
            "type": "histogram2dcontour"
           }
          ],
          "mesh3d": [
           {
            "colorbar": {
             "outlinewidth": 0,
             "ticks": ""
            },
            "type": "mesh3d"
           }
          ],
          "parcoords": [
           {
            "line": {
             "colorbar": {
              "outlinewidth": 0,
              "ticks": ""
             }
            },
            "type": "parcoords"
           }
          ],
          "pie": [
           {
            "automargin": true,
            "type": "pie"
           }
          ],
          "scatter": [
           {
            "fillpattern": {
             "fillmode": "overlay",
             "size": 10,
             "solidity": 0.2
            },
            "type": "scatter"
           }
          ],
          "scatter3d": [
           {
            "line": {
             "colorbar": {
              "outlinewidth": 0,
              "ticks": ""
             }
            },
            "marker": {
             "colorbar": {
              "outlinewidth": 0,
              "ticks": ""
             }
            },
            "type": "scatter3d"
           }
          ],
          "scattercarpet": [
           {
            "marker": {
             "colorbar": {
              "outlinewidth": 0,
              "ticks": ""
             }
            },
            "type": "scattercarpet"
           }
          ],
          "scattergeo": [
           {
            "marker": {
             "colorbar": {
              "outlinewidth": 0,
              "ticks": ""
             }
            },
            "type": "scattergeo"
           }
          ],
          "scattergl": [
           {
            "marker": {
             "colorbar": {
              "outlinewidth": 0,
              "ticks": ""
             }
            },
            "type": "scattergl"
           }
          ],
          "scattermapbox": [
           {
            "marker": {
             "colorbar": {
              "outlinewidth": 0,
              "ticks": ""
             }
            },
            "type": "scattermapbox"
           }
          ],
          "scatterpolar": [
           {
            "marker": {
             "colorbar": {
              "outlinewidth": 0,
              "ticks": ""
             }
            },
            "type": "scatterpolar"
           }
          ],
          "scatterpolargl": [
           {
            "marker": {
             "colorbar": {
              "outlinewidth": 0,
              "ticks": ""
             }
            },
            "type": "scatterpolargl"
           }
          ],
          "scatterternary": [
           {
            "marker": {
             "colorbar": {
              "outlinewidth": 0,
              "ticks": ""
             }
            },
            "type": "scatterternary"
           }
          ],
          "surface": [
           {
            "colorbar": {
             "outlinewidth": 0,
             "ticks": ""
            },
            "colorscale": [
             [
              0,
              "#0d0887"
             ],
             [
              0.1111111111111111,
              "#46039f"
             ],
             [
              0.2222222222222222,
              "#7201a8"
             ],
             [
              0.3333333333333333,
              "#9c179e"
             ],
             [
              0.4444444444444444,
              "#bd3786"
             ],
             [
              0.5555555555555556,
              "#d8576b"
             ],
             [
              0.6666666666666666,
              "#ed7953"
             ],
             [
              0.7777777777777778,
              "#fb9f3a"
             ],
             [
              0.8888888888888888,
              "#fdca26"
             ],
             [
              1,
              "#f0f921"
             ]
            ],
            "type": "surface"
           }
          ],
          "table": [
           {
            "cells": {
             "fill": {
              "color": "#EBF0F8"
             },
             "line": {
              "color": "white"
             }
            },
            "header": {
             "fill": {
              "color": "#C8D4E3"
             },
             "line": {
              "color": "white"
             }
            },
            "type": "table"
           }
          ]
         },
         "layout": {
          "annotationdefaults": {
           "arrowcolor": "#2a3f5f",
           "arrowhead": 0,
           "arrowwidth": 1
          },
          "autotypenumbers": "strict",
          "coloraxis": {
           "colorbar": {
            "outlinewidth": 0,
            "ticks": ""
           }
          },
          "colorscale": {
           "diverging": [
            [
             0,
             "#8e0152"
            ],
            [
             0.1,
             "#c51b7d"
            ],
            [
             0.2,
             "#de77ae"
            ],
            [
             0.3,
             "#f1b6da"
            ],
            [
             0.4,
             "#fde0ef"
            ],
            [
             0.5,
             "#f7f7f7"
            ],
            [
             0.6,
             "#e6f5d0"
            ],
            [
             0.7,
             "#b8e186"
            ],
            [
             0.8,
             "#7fbc41"
            ],
            [
             0.9,
             "#4d9221"
            ],
            [
             1,
             "#276419"
            ]
           ],
           "sequential": [
            [
             0,
             "#0d0887"
            ],
            [
             0.1111111111111111,
             "#46039f"
            ],
            [
             0.2222222222222222,
             "#7201a8"
            ],
            [
             0.3333333333333333,
             "#9c179e"
            ],
            [
             0.4444444444444444,
             "#bd3786"
            ],
            [
             0.5555555555555556,
             "#d8576b"
            ],
            [
             0.6666666666666666,
             "#ed7953"
            ],
            [
             0.7777777777777778,
             "#fb9f3a"
            ],
            [
             0.8888888888888888,
             "#fdca26"
            ],
            [
             1,
             "#f0f921"
            ]
           ],
           "sequentialminus": [
            [
             0,
             "#0d0887"
            ],
            [
             0.1111111111111111,
             "#46039f"
            ],
            [
             0.2222222222222222,
             "#7201a8"
            ],
            [
             0.3333333333333333,
             "#9c179e"
            ],
            [
             0.4444444444444444,
             "#bd3786"
            ],
            [
             0.5555555555555556,
             "#d8576b"
            ],
            [
             0.6666666666666666,
             "#ed7953"
            ],
            [
             0.7777777777777778,
             "#fb9f3a"
            ],
            [
             0.8888888888888888,
             "#fdca26"
            ],
            [
             1,
             "#f0f921"
            ]
           ]
          },
          "colorway": [
           "#636efa",
           "#EF553B",
           "#00cc96",
           "#ab63fa",
           "#FFA15A",
           "#19d3f3",
           "#FF6692",
           "#B6E880",
           "#FF97FF",
           "#FECB52"
          ],
          "font": {
           "color": "#2a3f5f"
          },
          "geo": {
           "bgcolor": "white",
           "lakecolor": "white",
           "landcolor": "#E5ECF6",
           "showlakes": true,
           "showland": true,
           "subunitcolor": "white"
          },
          "hoverlabel": {
           "align": "left"
          },
          "hovermode": "closest",
          "mapbox": {
           "style": "light"
          },
          "paper_bgcolor": "white",
          "plot_bgcolor": "#E5ECF6",
          "polar": {
           "angularaxis": {
            "gridcolor": "white",
            "linecolor": "white",
            "ticks": ""
           },
           "bgcolor": "#E5ECF6",
           "radialaxis": {
            "gridcolor": "white",
            "linecolor": "white",
            "ticks": ""
           }
          },
          "scene": {
           "xaxis": {
            "backgroundcolor": "#E5ECF6",
            "gridcolor": "white",
            "gridwidth": 2,
            "linecolor": "white",
            "showbackground": true,
            "ticks": "",
            "zerolinecolor": "white"
           },
           "yaxis": {
            "backgroundcolor": "#E5ECF6",
            "gridcolor": "white",
            "gridwidth": 2,
            "linecolor": "white",
            "showbackground": true,
            "ticks": "",
            "zerolinecolor": "white"
           },
           "zaxis": {
            "backgroundcolor": "#E5ECF6",
            "gridcolor": "white",
            "gridwidth": 2,
            "linecolor": "white",
            "showbackground": true,
            "ticks": "",
            "zerolinecolor": "white"
           }
          },
          "shapedefaults": {
           "line": {
            "color": "#2a3f5f"
           }
          },
          "ternary": {
           "aaxis": {
            "gridcolor": "white",
            "linecolor": "white",
            "ticks": ""
           },
           "baxis": {
            "gridcolor": "white",
            "linecolor": "white",
            "ticks": ""
           },
           "bgcolor": "#E5ECF6",
           "caxis": {
            "gridcolor": "white",
            "linecolor": "white",
            "ticks": ""
           }
          },
          "title": {
           "x": 0.05
          },
          "xaxis": {
           "automargin": true,
           "gridcolor": "white",
           "linecolor": "white",
           "ticks": "",
           "title": {
            "standoff": 15
           },
           "zerolinecolor": "white",
           "zerolinewidth": 2
          },
          "yaxis": {
           "automargin": true,
           "gridcolor": "white",
           "linecolor": "white",
           "ticks": "",
           "title": {
            "standoff": 15
           },
           "zerolinecolor": "white",
           "zerolinewidth": 2
          }
         }
        },
        "title": {
         "text": "Most Frequent Words in Product Descriptions (Stopwords Removed)"
        },
        "width": 1500,
        "xaxis": {
         "anchor": "y",
         "autorange": true,
         "domain": [
          0,
          1
         ],
         "range": [
          -0.5,
          30.5
         ],
         "tickangle": -45,
         "title": {
          "text": "Word"
         },
         "type": "category"
        },
        "yaxis": {
         "anchor": "x",
         "autorange": true,
         "domain": [
          0,
          1
         ],
         "range": [
          0,
          1363.157894736842
         ],
         "title": {
          "text": "Frequency"
         },
         "type": "linear"
        }
       }
      },
      "image/png": "[encoded data removed]",
      "text/html": [
       "<div>                            <div id=\"fc4f86ed-bbb3-49ba-80a0-52ecdcded302\" class=\"plotly-graph-div\" style=\"height:500px; width:1500px;\"></div>            <script type=\"text/javascript\">                require([\"plotly\"], function(Plotly) {                    window.PLOTLYENV=window.PLOTLYENV || {};                                    if (document.getElementById(\"fc4f86ed-bbb3-49ba-80a0-52ecdcded302\")) {                    Plotly.newPlot(                        \"fc4f86ed-bbb3-49ba-80a0-52ecdcded302\",                        [{\"alignmentgroup\":\"True\",\"hovertemplate\":\"Category=Western Skincare<br>Word=%{x}<br>Frequency=%{y}<extra></extra>\",\"legendgroup\":\"Western Skincare\",\"marker\":{\"color\":\"#636EFA\",\"pattern\":{\"shape\":\"\"}},\"name\":\"Western Skincare\",\"offsetgroup\":\"Western Skincare\",\"orientation\":\"v\",\"showlegend\":true,\"textposition\":\"auto\",\"x\":[\"skin\",\"dark\",\"free\",\"visibly\",\"spots\",\"ingredients\",\"look\",\"serum\",\"clinical\",\"vitamin\",\"texture\",\"c\",\"results\",\"wrinkles\",\"know\",\"tone\",\"lines\",\"skincare\",\"need\",\"acid\"],\"xaxis\":\"x\",\"y\":[1295,395,388,376,352,348,254,251,246,218,215,212,206,197,190,189,189,188,187,185],\"yaxis\":\"y\",\"type\":\"bar\"},{\"alignmentgroup\":\"True\",\"hovertemplate\":\"Category=Asian Skincare<br>Word=%{x}<br>Frequency=%{y}<extra></extra>\",\"legendgroup\":\"Asian Skincare\",\"marker\":{\"color\":\"#EF553B\",\"pattern\":{\"shape\":\"\"}},\"name\":\"Asian Skincare\",\"offsetgroup\":\"Asian Skincare\",\"orientation\":\"v\",\"showlegend\":true,\"textposition\":\"auto\",\"x\":[\"skin\",\"extract\",\"ingredients\",\"dark\",\"formula\",\"serum\",\"free\",\"vitamin\",\"acid\",\"spots\",\"moisture\",\"contains\",\"niacinamide\",\"brightening\",\"cream\",\"c\",\"oil\",\"mask\",\"hyaluronic\",\"formulated\"],\"xaxis\":\"x\",\"y\":[503,98,84,68,67,65,62,61,60,56,50,49,48,47,47,46,46,46,44,43],\"yaxis\":\"y\",\"type\":\"bar\"}],                        {\"template\":{\"data\":{\"histogram2dcontour\":[{\"type\":\"histogram2dcontour\",\"colorbar\":{\"outlinewidth\":0,\"ticks\":\"\"},\"colorscale\":[[0.0,\"#0d0887\"],[0.1111111111111111,\"#46039f\"],[0.2222222222222222,\"#7201a8\"],[0.3333333333333333,\"#9c179e\"],[0.4444444444444444,\"#bd3786\"],[0.5555555555555556,\"#d8576b\"],[0.6666666666666666,\"#ed7953\"],[0.7777777777777778,\"#fb9f3a\"],[0.8888888888888888,\"#fdca26\"],[1.0,\"#f0f921\"]]}],\"choropleth\":[{\"type\":\"choropleth\",\"colorbar\":{\"outlinewidth\":0,\"ticks\":\"\"}}],\"histogram2d\":[{\"type\":\"histogram2d\",\"colorbar\":{\"outlinewidth\":0,\"ticks\":\"\"},\"colorscale\":[[0.0,\"#0d0887\"],[0.1111111111111111,\"#46039f\"],[0.2222222222222222,\"#7201a8\"],[0.3333333333333333,\"#9c179e\"],[0.4444444444444444,\"#bd3786\"],[0.5555555555555556,\"#d8576b\"],[0.6666666666666666,\"#ed7953\"],[0.7777777777777778,\"#fb9f3a\"],[0.8888888888888888,\"#fdca26\"],[1.0,\"#f0f921\"]]}],\"heatmap\":[{\"type\":\"heatmap\",\"colorbar\":{\"outlinewidth\":0,\"ticks\":\"\"},\"colorscale\":[[0.0,\"#0d0887\"],[0.1111111111111111,\"#46039f\"],[0.2222222222222222,\"#7201a8\"],[0.3333333333333333,\"#9c179e\"],[0.4444444444444444,\"#bd3786\"],[0.5555555555555556,\"#d8576b\"],[0.6666666666666666,\"#ed7953\"],[0.7777777777777778,\"#fb9f3a\"],[0.8888888888888888,\"#fdca26\"],[1.0,\"#f0f921\"]]}],\"heatmapgl\":[{\"type\":\"heatmapgl\",\"colorbar\":{\"outlinewidth\":0,\"ticks\":\"\"},\"colorscale\":[[0.0,\"#0d0887\"],[0.1111111111111111,\"#46039f\"],[0.2222222222222222,\"#7201a8\"],[0.3333333333333333,\"#9c179e\"],[0.4444444444444444,\"#bd3786\"],[0.5555555555555556,\"#d8576b\"],[0.6666666666666666,\"#ed7953\"],[0.7777777777777778,\"#fb9f3a\"],[0.8888888888888888,\"#fdca26\"],[1.0,\"#f0f921\"]]}],\"contourcarpet\":[{\"type\":\"contourcarpet\",\"colorbar\":{\"outlinewidth\":0,\"ticks\":\"\"}}],\"contour\":[{\"type\":\"contour\",\"colorbar\":{\"outlinewidth\":0,\"ticks\":\"\"},\"colorscale\":[[0.0,\"#0d0887\"],[0.1111111111111111,\"#46039f\"],[0.2222222222222222,\"#7201a8\"],[0.3333333333333333,\"#9c179e\"],[0.4444444444444444,\"#bd3786\"],[0.5555555555555556,\"#d8576b\"],[0.6666666666666666,\"#ed7953\"],[0.7777777777777778,\"#fb9f3a\"],[0.8888888888888888,\"#fdca26\"],[1.0,\"#f0f921\"]]}],\"surface\":[{\"type\":\"surface\",\"colorbar\":{\"outlinewidth\":0,\"ticks\":\"\"},\"colorscale\":[[0.0,\"#0d0887\"],[0.1111111111111111,\"#46039f\"],[0.2222222222222222,\"#7201a8\"],[0.3333333333333333,\"#9c179e\"],[0.4444444444444444,\"#bd3786\"],[0.5555555555555556,\"#d8576b\"],[0.6666666666666666,\"#ed7953\"],[0.7777777777777778,\"#fb9f3a\"],[0.8888888888888888,\"#fdca26\"],[1.0,\"#f0f921\"]]}],\"mesh3d\":[{\"type\":\"mesh3d\",\"colorbar\":{\"outlinewidth\":0,\"ticks\":\"\"}}],\"scatter\":[{\"fillpattern\":{\"fillmode\":\"overlay\",\"size\":10,\"solidity\":0.2},\"type\":\"scatter\"}],\"parcoords\":[{\"type\":\"parcoords\",\"line\":{\"colorbar\":{\"outlinewidth\":0,\"ticks\":\"\"}}}],\"scatterpolargl\":[{\"type\":\"scatterpolargl\",\"marker\":{\"colorbar\":{\"outlinewidth\":0,\"ticks\":\"\"}}}],\"bar\":[{\"error_x\":{\"color\":\"#2a3f5f\"},\"error_y\":{\"color\":\"#2a3f5f\"},\"marker\":{\"line\":{\"color\":\"#E5ECF6\",\"width\":0.5},\"pattern\":{\"fillmode\":\"overlay\",\"size\":10,\"solidity\":0.2}},\"type\":\"bar\"}],\"scattergeo\":[{\"type\":\"scattergeo\",\"marker\":{\"colorbar\":{\"outlinewidth\":0,\"ticks\":\"\"}}}],\"scatterpolar\":[{\"type\":\"scatterpolar\",\"marker\":{\"colorbar\":{\"outlinewidth\":0,\"ticks\":\"\"}}}],\"histogram\":[{\"marker\":{\"pattern\":{\"fillmode\":\"overlay\",\"size\":10,\"solidity\":0.2}},\"type\":\"histogram\"}],\"scattergl\":[{\"type\":\"scattergl\",\"marker\":{\"colorbar\":{\"outlinewidth\":0,\"ticks\":\"\"}}}],\"scatter3d\":[{\"type\":\"scatter3d\",\"line\":{\"colorbar\":{\"outlinewidth\":0,\"ticks\":\"\"}},\"marker\":{\"colorbar\":{\"outlinewidth\":0,\"ticks\":\"\"}}}],\"scattermapbox\":[{\"type\":\"scattermapbox\",\"marker\":{\"colorbar\":{\"outlinewidth\":0,\"ticks\":\"\"}}}],\"scatterternary\":[{\"type\":\"scatterternary\",\"marker\":{\"colorbar\":{\"outlinewidth\":0,\"ticks\":\"\"}}}],\"scattercarpet\":[{\"type\":\"scattercarpet\",\"marker\":{\"colorbar\":{\"outlinewidth\":0,\"ticks\":\"\"}}}],\"carpet\":[{\"aaxis\":{\"endlinecolor\":\"#2a3f5f\",\"gridcolor\":\"white\",\"linecolor\":\"white\",\"minorgridcolor\":\"white\",\"startlinecolor\":\"#2a3f5f\"},\"baxis\":{\"endlinecolor\":\"#2a3f5f\",\"gridcolor\":\"white\",\"linecolor\":\"white\",\"minorgridcolor\":\"white\",\"startlinecolor\":\"#2a3f5f\"},\"type\":\"carpet\"}],\"table\":[{\"cells\":{\"fill\":{\"color\":\"#EBF0F8\"},\"line\":{\"color\":\"white\"}},\"header\":{\"fill\":{\"color\":\"#C8D4E3\"},\"line\":{\"color\":\"white\"}},\"type\":\"table\"}],\"barpolar\":[{\"marker\":{\"line\":{\"color\":\"#E5ECF6\",\"width\":0.5},\"pattern\":{\"fillmode\":\"overlay\",\"size\":10,\"solidity\":0.2}},\"type\":\"barpolar\"}],\"pie\":[{\"automargin\":true,\"type\":\"pie\"}]},\"layout\":{\"autotypenumbers\":\"strict\",\"colorway\":[\"#636efa\",\"#EF553B\",\"#00cc96\",\"#ab63fa\",\"#FFA15A\",\"#19d3f3\",\"#FF6692\",\"#B6E880\",\"#FF97FF\",\"#FECB52\"],\"font\":{\"color\":\"#2a3f5f\"},\"hovermode\":\"closest\",\"hoverlabel\":{\"align\":\"left\"},\"paper_bgcolor\":\"white\",\"plot_bgcolor\":\"#E5ECF6\",\"polar\":{\"bgcolor\":\"#E5ECF6\",\"angularaxis\":{\"gridcolor\":\"white\",\"linecolor\":\"white\",\"ticks\":\"\"},\"radialaxis\":{\"gridcolor\":\"white\",\"linecolor\":\"white\",\"ticks\":\"\"}},\"ternary\":{\"bgcolor\":\"#E5ECF6\",\"aaxis\":{\"gridcolor\":\"white\",\"linecolor\":\"white\",\"ticks\":\"\"},\"baxis\":{\"gridcolor\":\"white\",\"linecolor\":\"white\",\"ticks\":\"\"},\"caxis\":{\"gridcolor\":\"white\",\"linecolor\":\"white\",\"ticks\":\"\"}},\"coloraxis\":{\"colorbar\":{\"outlinewidth\":0,\"ticks\":\"\"}},\"colorscale\":{\"sequential\":[[0.0,\"#0d0887\"],[0.1111111111111111,\"#46039f\"],[0.2222222222222222,\"#7201a8\"],[0.3333333333333333,\"#9c179e\"],[0.4444444444444444,\"#bd3786\"],[0.5555555555555556,\"#d8576b\"],[0.6666666666666666,\"#ed7953\"],[0.7777777777777778,\"#fb9f3a\"],[0.8888888888888888,\"#fdca26\"],[1.0,\"#f0f921\"]],\"sequentialminus\":[[0.0,\"#0d0887\"],[0.1111111111111111,\"#46039f\"],[0.2222222222222222,\"#7201a8\"],[0.3333333333333333,\"#9c179e\"],[0.4444444444444444,\"#bd3786\"],[0.5555555555555556,\"#d8576b\"],[0.6666666666666666,\"#ed7953\"],[0.7777777777777778,\"#fb9f3a\"],[0.8888888888888888,\"#fdca26\"],[1.0,\"#f0f921\"]],\"diverging\":[[0,\"#8e0152\"],[0.1,\"#c51b7d\"],[0.2,\"#de77ae\"],[0.3,\"#f1b6da\"],[0.4,\"#fde0ef\"],[0.5,\"#f7f7f7\"],[0.6,\"#e6f5d0\"],[0.7,\"#b8e186\"],[0.8,\"#7fbc41\"],[0.9,\"#4d9221\"],[1,\"#276419\"]]},\"xaxis\":{\"gridcolor\":\"white\",\"linecolor\":\"white\",\"ticks\":\"\",\"title\":{\"standoff\":15},\"zerolinecolor\":\"white\",\"automargin\":true,\"zerolinewidth\":2},\"yaxis\":{\"gridcolor\":\"white\",\"linecolor\":\"white\",\"ticks\":\"\",\"title\":{\"standoff\":15},\"zerolinecolor\":\"white\",\"automargin\":true,\"zerolinewidth\":2},\"scene\":{\"xaxis\":{\"backgroundcolor\":\"#E5ECF6\",\"gridcolor\":\"white\",\"linecolor\":\"white\",\"showbackground\":true,\"ticks\":\"\",\"zerolinecolor\":\"white\",\"gridwidth\":2},\"yaxis\":{\"backgroundcolor\":\"#E5ECF6\",\"gridcolor\":\"white\",\"linecolor\":\"white\",\"showbackground\":true,\"ticks\":\"\",\"zerolinecolor\":\"white\",\"gridwidth\":2},\"zaxis\":{\"backgroundcolor\":\"#E5ECF6\",\"gridcolor\":\"white\",\"linecolor\":\"white\",\"showbackground\":true,\"ticks\":\"\",\"zerolinecolor\":\"white\",\"gridwidth\":2}},\"shapedefaults\":{\"line\":{\"color\":\"#2a3f5f\"}},\"annotationdefaults\":{\"arrowcolor\":\"#2a3f5f\",\"arrowhead\":0,\"arrowwidth\":1},\"geo\":{\"bgcolor\":\"white\",\"landcolor\":\"#E5ECF6\",\"subunitcolor\":\"white\",\"showland\":true,\"showlakes\":true,\"lakecolor\":\"white\"},\"title\":{\"x\":0.05},\"mapbox\":{\"style\":\"light\"}}},\"xaxis\":{\"anchor\":\"y\",\"domain\":[0.0,1.0],\"title\":{\"text\":\"Word\"},\"tickangle\":-45},\"yaxis\":{\"anchor\":\"x\",\"domain\":[0.0,1.0],\"title\":{\"text\":\"Frequency\"}},\"legend\":{\"title\":{\"text\":\"Category\"},\"tracegroupgap\":0},\"title\":{\"text\":\"Most Frequent Words in Product Descriptions (Stopwords Removed)\"},\"barmode\":\"group\",\"autosize\":false,\"width\":1500,\"height\":500},                        {\"responsive\": true}                    ).then(function(){\n",
       "                            \n",
       "var gd = document.getElementById('fc4f86ed-bbb3-49ba-80a0-52ecdcded302');\n",
       "var x = new MutationObserver(function (mutations, observer) {{\n",
       "        var display = window.getComputedStyle(gd).display;\n",
       "        if (!display || display === 'none') {{\n",
       "            console.log([gd, 'removed!']);\n",
       "            Plotly.purge(gd);\n",
       "            observer.disconnect();\n",
       "        }}\n",
       "}});\n",
       "\n",
       "// Listen for the removal of the full notebook cells\n",
       "var notebookContainer = gd.closest('#notebook-container');\n",
       "if (notebookContainer) {{\n",
       "    x.observe(notebookContainer, {childList: true});\n",
       "}}\n",
       "\n",
       "// Listen for the clearing of the current output cell\n",
       "var outputEl = gd.closest('.output');\n",
       "if (outputEl) {{\n",
       "    x.observe(outputEl, {childList: true});\n",
       "}}\n",
       "\n",
       "                        })                };                });            </script>        </div>"
      ]
     },
     "metadata": {},
     "output_type": "display_data"
    }
   ],
   "source": [
    "stop_words = set(stopwords.words('english'))\n",
    "\n",
    "def tokenize_text(text):\n",
    "    words = re.findall(r'\\b\\w+\\b', text.lower()) \n",
    "    return [word for word in words if word not in stop_words]  \n",
    "\n",
    "def word_frequencies(df, column):\n",
    "    words = []\n",
    "    df[column].dropna().apply(lambda x: words.extend(tokenize_text(x)))\n",
    "    return Counter(words).most_common(20) \n",
    "\n",
    "western_words = word_frequencies(western_skincare, \"product_description\")\n",
    "asian_words = word_frequencies(asian_skincare, \"product_description\")\n",
    "\n",
    "western_word_df = pd.DataFrame(western_words, columns=[\"Word\", \"Count\"])\n",
    "western_word_df[\"Category\"] = \"Western Skincare\"\n",
    "\n",
    "asian_word_df = pd.DataFrame(asian_words, columns=[\"Word\", \"Count\"])\n",
    "asian_word_df[\"Category\"] = \"Asian Skincare\"\n",
    "\n",
    "word_df = pd.concat([western_word_df, asian_word_df])\n",
    "\n",
    "fig = px.bar(\n",
    "    word_df, \n",
    "    x=\"Word\", \n",
    "    y=\"Count\", \n",
    "    color=\"Category\", \n",
    "    barmode=\"group\",\n",
    "    title=\"Most Frequent Words in Product Descriptions (Stopwords Removed)\",\n",
    "    labels={\"Count\": \"Frequency\", \"Word\": \"Word\"},\n",
    "    color_discrete_map={\"Western Skincare\": \"#636EFA\", \"Asian Skincare\": \"#EF553B\"}, \n",
    ")\n",
    "\n",
    "fig.update_layout(\n",
    "    xaxis=dict(tickangle=-45),\n",
    "    legend=dict(title=\"Category\"),\n",
    "    autosize=False,\n",
    "    width=1500,\n",
    "    height=500,\n",
    ")\n",
    "\n",
    "fig.show()"
   ]
  },
  {
   "cell_type": "code",
   "execution_count": 24,
   "metadata": {},
   "outputs": [
    {
     "data": {
      "text/html": [
       "<div>\n",
       "<style scoped>\n",
       "    .dataframe tbody tr th:only-of-type {\n",
       "        vertical-align: middle;\n",
       "    }\n",
       "\n",
       "    .dataframe tbody tr th {\n",
       "        vertical-align: top;\n",
       "    }\n",
       "\n",
       "    .dataframe thead th {\n",
       "        text-align: right;\n",
       "    }\n",
       "</style>\n",
       "<table border=\"1\" class=\"dataframe\">\n",
       "  <thead>\n",
       "    <tr style=\"text-align: right;\">\n",
       "      <th></th>\n",
       "      <th>brand_name</th>\n",
       "      <th>product_name</th>\n",
       "      <th>price_usd</th>\n",
       "      <th>product_description</th>\n",
       "      <th>ingredients</th>\n",
       "      <th>review_count</th>\n",
       "      <th>country</th>\n",
       "    </tr>\n",
       "  </thead>\n",
       "  <tbody>\n",
       "    <tr>\n",
       "      <th>0</th>\n",
       "      <td>The Ordinary</td>\n",
       "      <td>Glycolic Acid 7% Exfoliating Toner</td>\n",
       "      <td>13.0</td>\n",
       "      <td>What it is: A daily surface exfoliator that sm...</td>\n",
       "      <td>Aqua (Water), Glycolic Acid, Rosa damascena fl...</td>\n",
       "      <td>4000.0</td>\n",
       "      <td>Canada</td>\n",
       "    </tr>\n",
       "    <tr>\n",
       "      <th>1</th>\n",
       "      <td>Caudalie</td>\n",
       "      <td>Vinoperfect Brightening Dark Spot Serum Vitami...</td>\n",
       "      <td>82.0</td>\n",
       "      <td>What it is: A brightening serum that combats t...</td>\n",
       "      <td>Aqua/Water/Eau, Butylene Glycol, Glycerin, Coc...</td>\n",
       "      <td>3500.0</td>\n",
       "      <td>France</td>\n",
       "    </tr>\n",
       "    <tr>\n",
       "      <th>2</th>\n",
       "      <td>The Ordinary</td>\n",
       "      <td>The Resurface &amp; Hydrate Set with Hyaluronic Ac...</td>\n",
       "      <td>10.0</td>\n",
       "      <td>What it is: A set of two mini serums: one with...</td>\n",
       "      <td>Glycolic Acid, Aqua (Water), Aloe Barbadensis ...</td>\n",
       "      <td>107.0</td>\n",
       "      <td>Canada</td>\n",
       "    </tr>\n",
       "    <tr>\n",
       "      <th>3</th>\n",
       "      <td>The Ordinary</td>\n",
       "      <td>Azelaic Acid 10% Suspension Brightening Cream</td>\n",
       "      <td>12.2</td>\n",
       "      <td>What it is: A multifunctional cream that visib...</td>\n",
       "      <td>Water, Isodecyl Neopentanoate, Dimethicone, Az...</td>\n",
       "      <td>1300.0</td>\n",
       "      <td>Canada</td>\n",
       "    </tr>\n",
       "    <tr>\n",
       "      <th>4</th>\n",
       "      <td>The Ordinary</td>\n",
       "      <td>Saccharomyces Ferment 30% Milky Toner</td>\n",
       "      <td>14.0</td>\n",
       "      <td>What it is: A gentle, exfoliating milky toner,...</td>\n",
       "      <td>Aqua (Water), Yeast Extract, Squalane, Lauryl ...</td>\n",
       "      <td>825.0</td>\n",
       "      <td>Canada</td>\n",
       "    </tr>\n",
       "    <tr>\n",
       "      <th>...</th>\n",
       "      <td>...</td>\n",
       "      <td>...</td>\n",
       "      <td>...</td>\n",
       "      <td>...</td>\n",
       "      <td>...</td>\n",
       "      <td>...</td>\n",
       "      <td>...</td>\n",
       "    </tr>\n",
       "    <tr>\n",
       "      <th>184</th>\n",
       "      <td>IT Cosmetics</td>\n",
       "      <td>Secret Sauce Anti-Aging Face Moisturizer</td>\n",
       "      <td>85.0</td>\n",
       "      <td>What it is: A luxurious face moisturizer suita...</td>\n",
       "      <td>Aqua/Water/Eau, Glycerin, Dimethicone, Alcohol...</td>\n",
       "      <td>953.0</td>\n",
       "      <td>United States</td>\n",
       "    </tr>\n",
       "    <tr>\n",
       "      <th>185</th>\n",
       "      <td>Biossance</td>\n",
       "      <td>Zinc Sheer Hydrating Mineral Face Sunscreen SP...</td>\n",
       "      <td>32.0</td>\n",
       "      <td>What it is: A daily invisible mineral sunscree...</td>\n",
       "      <td>Inactive Ingredients: Water, Dicaprylyl Ether,...</td>\n",
       "      <td>127.0</td>\n",
       "      <td>United States</td>\n",
       "    </tr>\n",
       "    <tr>\n",
       "      <th>186</th>\n",
       "      <td>Fenty Beauty by Rihanna</td>\n",
       "      <td>Mini Hydra Vizor Mineral Sunscreen SPF 30 Refi...</td>\n",
       "      <td>26.0</td>\n",
       "      <td>What it is: A sheer, lightweight sunscreen tha...</td>\n",
       "      <td>Zinc Oxide 15.5%, Water, C12-15 Alkyl Benzoate...</td>\n",
       "      <td>14.0</td>\n",
       "      <td>United States</td>\n",
       "    </tr>\n",
       "    <tr>\n",
       "      <th>187</th>\n",
       "      <td>Hello Sunday</td>\n",
       "      <td>The One That's a Serum SPF 45 Hydrating &amp; Brig...</td>\n",
       "      <td>25.0</td>\n",
       "      <td>What it is: A lightweight face serum with SPF ...</td>\n",
       "      <td>Octisalate 5%, Avobenzone 3%, Homosalate 7%, O...</td>\n",
       "      <td>136.0</td>\n",
       "      <td>United Kingdom</td>\n",
       "    </tr>\n",
       "    <tr>\n",
       "      <th>188</th>\n",
       "      <td>First Aid Beauty</td>\n",
       "      <td>Weightless Liquid Mineral Sunscreen with Zinc ...</td>\n",
       "      <td>36.0</td>\n",
       "      <td>What it is: A luxuriously lightweight mineral ...</td>\n",
       "      <td>Ethylhexyl Olivate, Isododecane, Coconut Alkan...</td>\n",
       "      <td>163.0</td>\n",
       "      <td>United States</td>\n",
       "    </tr>\n",
       "  </tbody>\n",
       "</table>\n",
       "<p>189 rows × 7 columns</p>\n",
       "</div>"
      ],
      "text/plain": [
       "                  brand_name  \\\n",
       "0               The Ordinary   \n",
       "1                   Caudalie   \n",
       "2               The Ordinary   \n",
       "3               The Ordinary   \n",
       "4               The Ordinary   \n",
       "..                       ...   \n",
       "184             IT Cosmetics   \n",
       "185                Biossance   \n",
       "186  Fenty Beauty by Rihanna   \n",
       "187             Hello Sunday   \n",
       "188         First Aid Beauty   \n",
       "\n",
       "                                          product_name  price_usd  \\\n",
       "0                   Glycolic Acid 7% Exfoliating Toner       13.0   \n",
       "1    Vinoperfect Brightening Dark Spot Serum Vitami...       82.0   \n",
       "2    The Resurface & Hydrate Set with Hyaluronic Ac...       10.0   \n",
       "3        Azelaic Acid 10% Suspension Brightening Cream       12.2   \n",
       "4                Saccharomyces Ferment 30% Milky Toner       14.0   \n",
       "..                                                 ...        ...   \n",
       "184           Secret Sauce Anti-Aging Face Moisturizer       85.0   \n",
       "185  Zinc Sheer Hydrating Mineral Face Sunscreen SP...       32.0   \n",
       "186  Mini Hydra Vizor Mineral Sunscreen SPF 30 Refi...       26.0   \n",
       "187  The One That's a Serum SPF 45 Hydrating & Brig...       25.0   \n",
       "188  Weightless Liquid Mineral Sunscreen with Zinc ...       36.0   \n",
       "\n",
       "                                   product_description  \\\n",
       "0    What it is: A daily surface exfoliator that sm...   \n",
       "1    What it is: A brightening serum that combats t...   \n",
       "2    What it is: A set of two mini serums: one with...   \n",
       "3    What it is: A multifunctional cream that visib...   \n",
       "4    What it is: A gentle, exfoliating milky toner,...   \n",
       "..                                                 ...   \n",
       "184  What it is: A luxurious face moisturizer suita...   \n",
       "185  What it is: A daily invisible mineral sunscree...   \n",
       "186  What it is: A sheer, lightweight sunscreen tha...   \n",
       "187  What it is: A lightweight face serum with SPF ...   \n",
       "188  What it is: A luxuriously lightweight mineral ...   \n",
       "\n",
       "                                           ingredients  review_count  \\\n",
       "0    Aqua (Water), Glycolic Acid, Rosa damascena fl...        4000.0   \n",
       "1    Aqua/Water/Eau, Butylene Glycol, Glycerin, Coc...        3500.0   \n",
       "2    Glycolic Acid, Aqua (Water), Aloe Barbadensis ...         107.0   \n",
       "3    Water, Isodecyl Neopentanoate, Dimethicone, Az...        1300.0   \n",
       "4    Aqua (Water), Yeast Extract, Squalane, Lauryl ...         825.0   \n",
       "..                                                 ...           ...   \n",
       "184  Aqua/Water/Eau, Glycerin, Dimethicone, Alcohol...         953.0   \n",
       "185  Inactive Ingredients: Water, Dicaprylyl Ether,...         127.0   \n",
       "186  Zinc Oxide 15.5%, Water, C12-15 Alkyl Benzoate...          14.0   \n",
       "187  Octisalate 5%, Avobenzone 3%, Homosalate 7%, O...         136.0   \n",
       "188  Ethylhexyl Olivate, Isododecane, Coconut Alkan...         163.0   \n",
       "\n",
       "            country  \n",
       "0            Canada  \n",
       "1            France  \n",
       "2            Canada  \n",
       "3            Canada  \n",
       "4            Canada  \n",
       "..              ...  \n",
       "184   United States  \n",
       "185   United States  \n",
       "186   United States  \n",
       "187  United Kingdom  \n",
       "188   United States  \n",
       "\n",
       "[189 rows x 7 columns]"
      ]
     },
     "execution_count": 24,
     "metadata": {},
     "output_type": "execute_result"
    }
   ],
   "source": [
    "western_skincare"
   ]
  },
  {
   "cell_type": "markdown",
   "metadata": {},
   "source": [
    "The word analysis shows clear differences between how Western companies and Asian companies describe their products. Western companies focus on results, using words like \"skin\" (1452), \"dark\" (449), \"visibly\" (411), and \"spots\" (399). It also highlights anti-aging with words like \"wrinkles\" (214) and \"lines\" (215). Words like \"clinical\" (279) and \"ingredient\" (208) suggest a science-backed approach. Western company descriptions seem to focus on solving problems and showing visible changes.\n",
    "\n",
    "Asian companies, on the other hand, focus more on ingredients and skin type suitability. Words like \"extract\" (85), \"formula\" (56), \"moisture\" (38), and \"sensitive\" (37) suggest a focus on gentle and hydrating products. The presence of \"hyaluronic\" (30) and \"niacinamide\" (32) shows an emphasis on specific ingredients. Unlike Western Companies, Asian companies do not use words that promise big results. Instead, it describes what the product contains and who it is for. This suggests that Western companies sell skincare with a focus on transformation, while Asian companies highlight safe and nourishing formulas."
   ]
  },
  {
   "cell_type": "markdown",
   "metadata": {},
   "source": [
    "## Ethics & Privacy ⚖️"
   ]
  },
  {
   "cell_type": "markdown",
   "metadata": {},
   "source": [
    "There are generally very few privacy concerns with the data we mean to collect: we are primarily looking at products, so there is no personally identifiable information that would need to be removed. The sources we plan to collect our data from (using web scraping) are online shopping websites, where all the information is already publicly available to view. Collecting product reviews may have privacy concerns, since some websites display the name and age range of the user in order to help customers make better judgments about the products they’re buying. This would count as PII, and would need to be removed (and possibly replaced with a different id) for use in our project. Additionally, pictures that may come with reviews will not be included in our dataset, since they are not necessary for our analysis focusing on text sentiment, and may contain pictures of reviewers’ faces.\n",
    "\n",
    "We have a concern regarding how consumer voices and marketing strategies contain bias. Since we are scraping data from online beauty retailers and forums, our dataset primarily reflects the opinion of people that are active online, as opposed to a fully representative sample of skincare users in the market. Moreso, English-language reviews are likely to be overrepresented due to a lack of translations or missing data from Asian countries, which could impact the accuracy of comparative sentiment analysis. In order to balance representation, we will attempt to source our data from both Western and Asian platforms, and consider the impact of inaccurate translations on the data set. If possible, we can use multilingual sentiment analysis tools to avoid bias from English-centris analysis. We will take note of the demographic limitations when writing out our final report.\n",
    "\n",
    "There is also a potential bias in the marketing language analysis, a central part of our analysis. The issue is that marketing language is largely shaped by cultural values, which may cause bias in how we interpret linguistic differences. Certain terms like “brightening” and “whitening” might have different connotations depending on local beauty standards, and our framing might reinforce existing biases. In order to mitigate this bias, we will analyze this language in the context of broader historical contexts, as not to label one approach as more ethical. We will also use objective NLP methods, such as word frequency and sentiment scoring, instead of relying on more subjective methods.\n",
    "\n",
    "Our study focuses on the differences in how hyperpigmentation treatments are marketed and reviewed, but we recognize that discussions of skin brightening and lightening products intersect with broader social issues related to colorism and beauty standards. By analyzing marketing strategies, we risk unintentionally pushing industry narratives that promote unrealistic or exclusionary beauty ideals. To mitigate this, we will frame our findings critically by acknowledging how beauty standards influence product marketing, and highlight any problematic marketing patterns while discussing their ethical implications. Our goal is not to promote or endorse any specific beauty ideal but rather to provide a thoughtful critique of industry practices."
   ]
  },
  {
   "cell_type": "markdown",
   "metadata": {},
   "source": [
    "## Team Expectations 🤝"
   ]
  },
  {
   "cell_type": "markdown",
   "metadata": {},
   "source": [
    "- We communicate in a timely manner using Discord.\n",
    "- Team members should respond within a reasonable timeframe (24 hours) unless otherwise specified.\n",
    "- All work is documented and organized in Google Docs using clearly labeled tabs.\n",
    "Each team member is responsible for keeping shared documents updated with their contributions.\n",
    "- Decisions are made through a fair voting process.\n",
    "- Ranked voting will be used for selecting and prioritizing ideas.\n",
    "- For urgent decisions, if a team member is non-responsive within 3 hours, the majority vote will decide.\n",
    "- We meet weekly for lunch to check in on progress and discuss challenges.\n",
    "- Meetings should be attended by all members in a timely manner unless there is an unavoidable conflict.\n",
    "- Every team member is expected to contribute equally to the project.\n",
    "- Roles and responsibilities will be assigned based on strengths but can rotate as needed.\n",
    "- Tasks will be tracked using a shared document.\n",
    "- Team members should communicate concerns respectfully and constructively.\n",
    "- If conflicts arise, they should be addressed within the team first before going to the professor.\n",
    "- If a teammate is struggling to meet their responsibilities, they should inform the team as soon as possible so adjustments can be made."
   ]
  },
  {
   "cell_type": "markdown",
   "metadata": {},
   "source": [
    "## Project Timeline Proposal 📅 "
   ]
  },
  {
   "cell_type": "markdown",
   "metadata": {},
   "source": [
    "\n",
    "| Meeting Date  | Meeting Time| Completed Before Meeting  | Discuss at Meeting |\n",
    "|-------------|-------------------|--------------------------|--------------------|\n",
    "| 1/28        | 4:30 PM              | Read & Think about COGS 108 expectations; brainstorm topics/questions. | Determine the best form of communication and create a group chat for everyone to stay in contact with each other. |\n",
    "| 2/7         | 12 PM             | Background research on possible ideas, topics you do / don’t want to work on. | Discuss and decide on the final project topic; discuss hypothesis; begin background research. Discuss ideal dataset(s) and ethics. |\n",
    "| 2/9         | Before 11:59 PM   | Draft project proposal Search for datasets. | Edit, finalize, and submit proposal. |\n",
    "| 2/23        | Before 11:59 PM   | Figure out the most effective way to webscrape. Import & Wrangle Data. | Review/Edit wrangling/EDA; Discuss Analysis Plan, submit Checkpoint 1 (Data). |\n",
    "| 3/9         | Before 11:59 PM   | Finalize wrangling/EDA; Begin Analysis. | Discuss/edit Analysis; Submit Checkpoint 2 (EDA). |\n",
    "| 3/19        | Before 11:59 PM   | Draft results/conclusion, etc. Discuss and edit the full project. | Turn in Final Project & Group Project Surveys. |"
   ]
  }
 ],
 "metadata": {
  "kernelspec": {
   "display_name": "Python 3 (ipykernel)",
   "language": "python",
   "name": "python3"
  },
  "language_info": {
   "codemirror_mode": {
    "name": "ipython",
    "version": 3
   },
   "file_extension": ".py",
   "mimetype": "text/x-python",
   "name": "python",
   "nbconvert_exporter": "python",
   "pygments_lexer": "ipython3",
   "version": "3.11.5"
  }
 },
 "nbformat": 4,
 "nbformat_minor": 4
}
